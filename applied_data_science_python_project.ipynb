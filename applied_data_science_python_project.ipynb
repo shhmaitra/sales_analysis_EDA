{
 "cells": [
  {
   "cell_type": "code",
   "execution_count": 1,
   "id": "5b32c4cc-5bd6-4da8-a79a-302981de3df4",
   "metadata": {},
   "outputs": [],
   "source": [
    "import pandas as pd"
   ]
  },
  {
   "cell_type": "code",
   "execution_count": 2,
   "id": "9088f7e6-bac3-4d64-bfb4-bee8cd4c324e",
   "metadata": {},
   "outputs": [
    {
     "data": {
      "text/html": [
       "<div>\n",
       "<style scoped>\n",
       "    .dataframe tbody tr th:only-of-type {\n",
       "        vertical-align: middle;\n",
       "    }\n",
       "\n",
       "    .dataframe tbody tr th {\n",
       "        vertical-align: top;\n",
       "    }\n",
       "\n",
       "    .dataframe thead th {\n",
       "        text-align: right;\n",
       "    }\n",
       "</style>\n",
       "<table border=\"1\" class=\"dataframe\">\n",
       "  <thead>\n",
       "    <tr style=\"text-align: right;\">\n",
       "      <th></th>\n",
       "      <th>Date</th>\n",
       "      <th>Time</th>\n",
       "      <th>State</th>\n",
       "      <th>Group</th>\n",
       "      <th>Unit</th>\n",
       "      <th>Sales</th>\n",
       "    </tr>\n",
       "  </thead>\n",
       "  <tbody>\n",
       "    <tr>\n",
       "      <th>0</th>\n",
       "      <td>1-Oct-2020</td>\n",
       "      <td>Morning</td>\n",
       "      <td>WA</td>\n",
       "      <td>Kids</td>\n",
       "      <td>8</td>\n",
       "      <td>20000</td>\n",
       "    </tr>\n",
       "    <tr>\n",
       "      <th>1</th>\n",
       "      <td>1-Oct-2020</td>\n",
       "      <td>Morning</td>\n",
       "      <td>WA</td>\n",
       "      <td>Men</td>\n",
       "      <td>8</td>\n",
       "      <td>20000</td>\n",
       "    </tr>\n",
       "    <tr>\n",
       "      <th>2</th>\n",
       "      <td>1-Oct-2020</td>\n",
       "      <td>Morning</td>\n",
       "      <td>WA</td>\n",
       "      <td>Women</td>\n",
       "      <td>4</td>\n",
       "      <td>10000</td>\n",
       "    </tr>\n",
       "    <tr>\n",
       "      <th>3</th>\n",
       "      <td>1-Oct-2020</td>\n",
       "      <td>Morning</td>\n",
       "      <td>WA</td>\n",
       "      <td>Seniors</td>\n",
       "      <td>15</td>\n",
       "      <td>37500</td>\n",
       "    </tr>\n",
       "    <tr>\n",
       "      <th>4</th>\n",
       "      <td>1-Oct-2020</td>\n",
       "      <td>Afternoon</td>\n",
       "      <td>WA</td>\n",
       "      <td>Kids</td>\n",
       "      <td>3</td>\n",
       "      <td>7500</td>\n",
       "    </tr>\n",
       "    <tr>\n",
       "      <th>...</th>\n",
       "      <td>...</td>\n",
       "      <td>...</td>\n",
       "      <td>...</td>\n",
       "      <td>...</td>\n",
       "      <td>...</td>\n",
       "      <td>...</td>\n",
       "    </tr>\n",
       "    <tr>\n",
       "      <th>7555</th>\n",
       "      <td>30-Dec-2020</td>\n",
       "      <td>Afternoon</td>\n",
       "      <td>TAS</td>\n",
       "      <td>Seniors</td>\n",
       "      <td>14</td>\n",
       "      <td>35000</td>\n",
       "    </tr>\n",
       "    <tr>\n",
       "      <th>7556</th>\n",
       "      <td>30-Dec-2020</td>\n",
       "      <td>Evening</td>\n",
       "      <td>TAS</td>\n",
       "      <td>Kids</td>\n",
       "      <td>15</td>\n",
       "      <td>37500</td>\n",
       "    </tr>\n",
       "    <tr>\n",
       "      <th>7557</th>\n",
       "      <td>30-Dec-2020</td>\n",
       "      <td>Evening</td>\n",
       "      <td>TAS</td>\n",
       "      <td>Men</td>\n",
       "      <td>15</td>\n",
       "      <td>37500</td>\n",
       "    </tr>\n",
       "    <tr>\n",
       "      <th>7558</th>\n",
       "      <td>30-Dec-2020</td>\n",
       "      <td>Evening</td>\n",
       "      <td>TAS</td>\n",
       "      <td>Women</td>\n",
       "      <td>11</td>\n",
       "      <td>27500</td>\n",
       "    </tr>\n",
       "    <tr>\n",
       "      <th>7559</th>\n",
       "      <td>30-Dec-2020</td>\n",
       "      <td>Evening</td>\n",
       "      <td>TAS</td>\n",
       "      <td>Seniors</td>\n",
       "      <td>13</td>\n",
       "      <td>32500</td>\n",
       "    </tr>\n",
       "  </tbody>\n",
       "</table>\n",
       "<p>7560 rows × 6 columns</p>\n",
       "</div>"
      ],
      "text/plain": [
       "             Date        Time State     Group  Unit  Sales\n",
       "0      1-Oct-2020     Morning    WA      Kids     8  20000\n",
       "1      1-Oct-2020     Morning    WA       Men     8  20000\n",
       "2      1-Oct-2020     Morning    WA     Women     4  10000\n",
       "3      1-Oct-2020     Morning    WA   Seniors    15  37500\n",
       "4      1-Oct-2020   Afternoon    WA      Kids     3   7500\n",
       "...           ...         ...   ...       ...   ...    ...\n",
       "7555  30-Dec-2020   Afternoon   TAS   Seniors    14  35000\n",
       "7556  30-Dec-2020     Evening   TAS      Kids    15  37500\n",
       "7557  30-Dec-2020     Evening   TAS       Men    15  37500\n",
       "7558  30-Dec-2020     Evening   TAS     Women    11  27500\n",
       "7559  30-Dec-2020     Evening   TAS   Seniors    13  32500\n",
       "\n",
       "[7560 rows x 6 columns]"
      ]
     },
     "execution_count": 2,
     "metadata": {},
     "output_type": "execute_result"
    }
   ],
   "source": [
    "df=pd.read_csv('AusApparalSales4thQrt2020.csv') # reading data from file and displaying dataframe\n",
    "df"
   ]
  },
  {
   "cell_type": "markdown",
   "id": "1edff192-f347-4a0d-a282-d6d340e38d7c",
   "metadata": {},
   "source": [
    "## 1. DATA Wrangling"
   ]
  },
  {
   "cell_type": "markdown",
   "id": "07ee80d3-6edd-4c5a-9e31-04eaaea6a0c8",
   "metadata": {},
   "source": [
    "* **Ensure that the data is clean and that there is no missing or incorrect data.**\r",
    "    * \tInspect the data manually for missing/incorrect data using the functions isna(), and notna().\r\n"
   ]
  },
  {
   "cell_type": "code",
   "execution_count": 3,
   "id": "f914fecb-2036-4bb1-9c53-761f6491e603",
   "metadata": {},
   "outputs": [
    {
     "data": {
      "text/html": [
       "<div>\n",
       "<style scoped>\n",
       "    .dataframe tbody tr th:only-of-type {\n",
       "        vertical-align: middle;\n",
       "    }\n",
       "\n",
       "    .dataframe tbody tr th {\n",
       "        vertical-align: top;\n",
       "    }\n",
       "\n",
       "    .dataframe thead th {\n",
       "        text-align: right;\n",
       "    }\n",
       "</style>\n",
       "<table border=\"1\" class=\"dataframe\">\n",
       "  <thead>\n",
       "    <tr style=\"text-align: right;\">\n",
       "      <th></th>\n",
       "      <th>Date</th>\n",
       "      <th>Time</th>\n",
       "      <th>State</th>\n",
       "      <th>Group</th>\n",
       "      <th>Unit</th>\n",
       "      <th>Sales</th>\n",
       "    </tr>\n",
       "  </thead>\n",
       "  <tbody>\n",
       "    <tr>\n",
       "      <th>0</th>\n",
       "      <td>False</td>\n",
       "      <td>False</td>\n",
       "      <td>False</td>\n",
       "      <td>False</td>\n",
       "      <td>False</td>\n",
       "      <td>False</td>\n",
       "    </tr>\n",
       "    <tr>\n",
       "      <th>1</th>\n",
       "      <td>False</td>\n",
       "      <td>False</td>\n",
       "      <td>False</td>\n",
       "      <td>False</td>\n",
       "      <td>False</td>\n",
       "      <td>False</td>\n",
       "    </tr>\n",
       "    <tr>\n",
       "      <th>2</th>\n",
       "      <td>False</td>\n",
       "      <td>False</td>\n",
       "      <td>False</td>\n",
       "      <td>False</td>\n",
       "      <td>False</td>\n",
       "      <td>False</td>\n",
       "    </tr>\n",
       "    <tr>\n",
       "      <th>3</th>\n",
       "      <td>False</td>\n",
       "      <td>False</td>\n",
       "      <td>False</td>\n",
       "      <td>False</td>\n",
       "      <td>False</td>\n",
       "      <td>False</td>\n",
       "    </tr>\n",
       "    <tr>\n",
       "      <th>4</th>\n",
       "      <td>False</td>\n",
       "      <td>False</td>\n",
       "      <td>False</td>\n",
       "      <td>False</td>\n",
       "      <td>False</td>\n",
       "      <td>False</td>\n",
       "    </tr>\n",
       "    <tr>\n",
       "      <th>...</th>\n",
       "      <td>...</td>\n",
       "      <td>...</td>\n",
       "      <td>...</td>\n",
       "      <td>...</td>\n",
       "      <td>...</td>\n",
       "      <td>...</td>\n",
       "    </tr>\n",
       "    <tr>\n",
       "      <th>7555</th>\n",
       "      <td>False</td>\n",
       "      <td>False</td>\n",
       "      <td>False</td>\n",
       "      <td>False</td>\n",
       "      <td>False</td>\n",
       "      <td>False</td>\n",
       "    </tr>\n",
       "    <tr>\n",
       "      <th>7556</th>\n",
       "      <td>False</td>\n",
       "      <td>False</td>\n",
       "      <td>False</td>\n",
       "      <td>False</td>\n",
       "      <td>False</td>\n",
       "      <td>False</td>\n",
       "    </tr>\n",
       "    <tr>\n",
       "      <th>7557</th>\n",
       "      <td>False</td>\n",
       "      <td>False</td>\n",
       "      <td>False</td>\n",
       "      <td>False</td>\n",
       "      <td>False</td>\n",
       "      <td>False</td>\n",
       "    </tr>\n",
       "    <tr>\n",
       "      <th>7558</th>\n",
       "      <td>False</td>\n",
       "      <td>False</td>\n",
       "      <td>False</td>\n",
       "      <td>False</td>\n",
       "      <td>False</td>\n",
       "      <td>False</td>\n",
       "    </tr>\n",
       "    <tr>\n",
       "      <th>7559</th>\n",
       "      <td>False</td>\n",
       "      <td>False</td>\n",
       "      <td>False</td>\n",
       "      <td>False</td>\n",
       "      <td>False</td>\n",
       "      <td>False</td>\n",
       "    </tr>\n",
       "  </tbody>\n",
       "</table>\n",
       "<p>7560 rows × 6 columns</p>\n",
       "</div>"
      ],
      "text/plain": [
       "       Date   Time  State  Group   Unit  Sales\n",
       "0     False  False  False  False  False  False\n",
       "1     False  False  False  False  False  False\n",
       "2     False  False  False  False  False  False\n",
       "3     False  False  False  False  False  False\n",
       "4     False  False  False  False  False  False\n",
       "...     ...    ...    ...    ...    ...    ...\n",
       "7555  False  False  False  False  False  False\n",
       "7556  False  False  False  False  False  False\n",
       "7557  False  False  False  False  False  False\n",
       "7558  False  False  False  False  False  False\n",
       "7559  False  False  False  False  False  False\n",
       "\n",
       "[7560 rows x 6 columns]"
      ]
     },
     "execution_count": 3,
     "metadata": {},
     "output_type": "execute_result"
    }
   ],
   "source": [
    "df.isna() # isna function is checking if there is any nan value in any cell"
   ]
  },
  {
   "cell_type": "code",
   "execution_count": 4,
   "id": "80feda0b-b1f4-45a8-964d-4862525c201f",
   "metadata": {},
   "outputs": [
    {
     "data": {
      "text/plain": [
       "False"
      ]
     },
     "execution_count": 4,
     "metadata": {},
     "output_type": "execute_result"
    }
   ],
   "source": [
    "df.isna().values.any() # checking if any nan value is present"
   ]
  },
  {
   "cell_type": "code",
   "execution_count": 5,
   "id": "3a0a64ce-92a9-4c87-82d9-6f7dd7335548",
   "metadata": {},
   "outputs": [
    {
     "data": {
      "text/plain": [
       "Date     0\n",
       "Time     0\n",
       "State    0\n",
       "Group    0\n",
       "Unit     0\n",
       "Sales    0\n",
       "dtype: int64"
      ]
     },
     "execution_count": 5,
     "metadata": {},
     "output_type": "execute_result"
    }
   ],
   "source": [
    "df.isna().sum() # checking if any nan value is present"
   ]
  },
  {
   "cell_type": "code",
   "execution_count": 7,
   "id": "03131f9e-4ac5-4470-ae6a-8531b0d4a2ae",
   "metadata": {},
   "outputs": [
    {
     "data": {
      "text/plain": [
       "False"
      ]
     },
     "execution_count": 7,
     "metadata": {},
     "output_type": "execute_result"
    }
   ],
   "source": [
    "df.isna().values.any() # checking if value is present in "
   ]
  },
  {
   "cell_type": "markdown",
   "id": "56278bcc-c59f-4acd-9387-e8b2ff27ee52",
   "metadata": {},
   "source": [
    "*Ans : In our Dataframe there is no missing value*"
   ]
  },
  {
   "cell_type": "markdown",
   "id": "fbfe719a-ab59-40bb-9f09-315a2446098a",
   "metadata": {},
   "source": [
    "* **Based on your knowledge of Data Analytics, include your recommendations for treating missing data and incorrect data. (dropping the null values or filling them).**"
   ]
  },
  {
   "cell_type": "markdown",
   "id": "47953c7f-eaa7-434e-8288-80ecedaf8d96",
   "metadata": {},
   "source": [
    "*Ans : In our Dataframe there is no missing value so there is no question of treating missing and incorrect data.*"
   ]
  },
  {
   "cell_type": "markdown",
   "id": "1d0f5ca6-7bdd-43f0-bbef-72bf332273fb",
   "metadata": {},
   "source": [
    "* **Select an appropriate Data Wrangling approach —  data standardization or data normalization. Perform the standardization or normalization and present the data. (Normalization is the preferred approach for this problem.)**"
   ]
  },
  {
   "cell_type": "markdown",
   "id": "79c735b3-4ee7-4c07-a522-22ec2c0bdad2",
   "metadata": {},
   "source": [
    "*Ans : Could be implemnted after the data wrangling session*"
   ]
  },
  {
   "cell_type": "markdown",
   "id": "c2e42353-1a1f-49c9-b06c-bfe3129db9ca",
   "metadata": {},
   "source": [
    "* **Share your recommendation on the usage of the groupby() function for data chunking or merging**"
   ]
  },
  {
   "cell_type": "code",
   "execution_count": 8,
   "id": "97069b2b-ebbc-408c-942e-be4059d511b3",
   "metadata": {},
   "outputs": [
    {
     "data": {
      "text/plain": [
       "Group\n",
       " Kids       1890\n",
       " Men        1890\n",
       " Seniors    1890\n",
       " Women      1890\n",
       "dtype: int64"
      ]
     },
     "execution_count": 8,
     "metadata": {},
     "output_type": "execute_result"
    }
   ],
   "source": [
    "df.groupby('Group').size() # use groupby to identify no. of people in each group"
   ]
  },
  {
   "cell_type": "code",
   "execution_count": 9,
   "id": "7abc8a6e-0dad-4d8c-887f-7d010097d657",
   "metadata": {},
   "outputs": [
    {
     "data": {
      "text/plain": [
       "State\n",
       " NSW    1080\n",
       " NT     1080\n",
       " QLD    1080\n",
       " SA     1080\n",
       " TAS    1080\n",
       " VIC    1080\n",
       " WA     1080\n",
       "dtype: int64"
      ]
     },
     "execution_count": 9,
     "metadata": {},
     "output_type": "execute_result"
    }
   ],
   "source": [
    "df.groupby('State').size() # use groupby to identify no. of people from each state"
   ]
  },
  {
   "cell_type": "code",
   "execution_count": 10,
   "id": "2ddd86e4-049a-46f9-9c18-c8dee894bda5",
   "metadata": {},
   "outputs": [
    {
     "data": {
      "text/plain": [
       "State  Group   \n",
       " NSW    Kids       30000\n",
       "        Men        30000\n",
       "        Seniors    30000\n",
       "        Women      30000\n",
       " NT     Kids        5000\n",
       "        Men         5000\n",
       "        Seniors     5000\n",
       "        Women       5000\n",
       " QLD    Kids        7500\n",
       "        Men         7500\n",
       "        Seniors     7500\n",
       "        Women       7500\n",
       " SA     Kids       25000\n",
       "        Men        25000\n",
       "        Seniors    25000\n",
       "        Women      25000\n",
       " TAS    Kids        5000\n",
       "        Men         5000\n",
       "        Seniors     5000\n",
       "        Women       5000\n",
       " VIC    Kids       50000\n",
       "        Men        50000\n",
       "        Seniors    50000\n",
       "        Women      50000\n",
       " WA     Kids        5000\n",
       "        Men         5000\n",
       "        Seniors     5000\n",
       "        Women       5000\n",
       "Name: Sales, dtype: int64"
      ]
     },
     "execution_count": 10,
     "metadata": {},
     "output_type": "execute_result"
    }
   ],
   "source": [
    "df.groupby(['State','Group'])['Sales'].min() # use groupby to identify minmum spending of each group from each state"
   ]
  },
  {
   "cell_type": "code",
   "execution_count": 11,
   "id": "42729a61-74d8-468a-ac72-bdf72a7f659d",
   "metadata": {},
   "outputs": [
    {
     "data": {
      "text/plain": [
       "Group     State\n",
       " Kids      NSW     30000\n",
       "           NT       5000\n",
       "           QLD      7500\n",
       "           SA      25000\n",
       "           TAS      5000\n",
       "           VIC     50000\n",
       "           WA       5000\n",
       " Men       NSW     30000\n",
       "           NT       5000\n",
       "           QLD      7500\n",
       "           SA      25000\n",
       "           TAS      5000\n",
       "           VIC     50000\n",
       "           WA       5000\n",
       " Seniors   NSW     30000\n",
       "           NT       5000\n",
       "           QLD      7500\n",
       "           SA      25000\n",
       "           TAS      5000\n",
       "           VIC     50000\n",
       "           WA       5000\n",
       " Women     NSW     30000\n",
       "           NT       5000\n",
       "           QLD      7500\n",
       "           SA      25000\n",
       "           TAS      5000\n",
       "           VIC     50000\n",
       "           WA       5000\n",
       "Name: Sales, dtype: int64"
      ]
     },
     "execution_count": 11,
     "metadata": {},
     "output_type": "execute_result"
    }
   ],
   "source": [
    "df.groupby(['Group','State'])['Sales'].min() # use groupby to identify minmum spending from each state by each group"
   ]
  },
  {
   "cell_type": "code",
   "execution_count": 63,
   "id": "49fa645b-89ed-4392-a2da-0e367653cfdd",
   "metadata": {},
   "outputs": [
    {
     "data": {
      "text/plain": [
       "State  Time      \n",
       " NSW    Afternoon    25110000\n",
       "        Evening      24712500\n",
       "        Morning      25147500\n",
       " NT     Afternoon     7510000\n",
       "        Evening       7627500\n",
       "        Morning       7442500\n",
       " QLD    Afternoon    11347500\n",
       "        Evening      10632500\n",
       "        Morning      11437500\n",
       " SA     Afternoon    20025000\n",
       "        Evening      19367500\n",
       "        Morning      19465000\n",
       " TAS    Afternoon     7670000\n",
       "        Evening       7565000\n",
       "        Morning       7525000\n",
       " VIC    Afternoon    35062500\n",
       "        Evening      34880000\n",
       "        Morning      35622500\n",
       " WA     Afternoon     7282500\n",
       "        Evening       7302500\n",
       "        Morning       7567500\n",
       "Name: Sales, dtype: int64"
      ]
     },
     "execution_count": 63,
     "metadata": {},
     "output_type": "execute_result"
    }
   ],
   "source": [
    "# use groupby to identify state wise total spending on different time\n",
    "df.groupby(['State','Time'])['Sales'].sum()\n"
   ]
  },
  {
   "cell_type": "code",
   "execution_count": 12,
   "id": "7daa4cf1-fa81-4d46-b3c0-21219e6116f2",
   "metadata": {},
   "outputs": [
    {
     "data": {
      "text/plain": [
       "State\n",
       " NSW     74970000\n",
       " NT      22580000\n",
       " QLD     33417500\n",
       " SA      58857500\n",
       " TAS     22760000\n",
       " VIC    105565000\n",
       " WA      22152500\n",
       "Name: Sales, dtype: int64"
      ]
     },
     "execution_count": 12,
     "metadata": {},
     "output_type": "execute_result"
    }
   ],
   "source": [
    "# use groupby to identify state wise total spending\n",
    "df.groupby(['State'])['Sales'].sum()\n"
   ]
  },
  {
   "cell_type": "code",
   "execution_count": 65,
   "id": "702fc635-546b-43db-886d-984dc96e61e1",
   "metadata": {},
   "outputs": [
    {
     "data": {
      "text/plain": [
       "Group\n",
       " Kids       85072500\n",
       " Men        85750000\n",
       " Seniors    84037500\n",
       " Women      85442500\n",
       "Name: Sales, dtype: int64"
      ]
     },
     "execution_count": 65,
     "metadata": {},
     "output_type": "execute_result"
    }
   ],
   "source": [
    "# use groupby to identify group wise total spending\n",
    "df.groupby(['Group'])['Sales'].sum()"
   ]
  },
  {
   "cell_type": "code",
   "execution_count": 13,
   "id": "22b2ed7a-8b35-4c7c-94f4-ea2805f7538f",
   "metadata": {},
   "outputs": [
    {
     "data": {
      "text/plain": [
       "Time\n",
       " Afternoon    114007500\n",
       " Evening      112087500\n",
       " Morning      114207500\n",
       "Name: Sales, dtype: int64"
      ]
     },
     "execution_count": 13,
     "metadata": {},
     "output_type": "execute_result"
    }
   ],
   "source": [
    "# use groupby to identify time wise total spending\n",
    "df.groupby(['Time'])['Sales'].sum()"
   ]
  },
  {
   "cell_type": "code",
   "execution_count": 14,
   "id": "cf9df6b4-3720-405e-a057-a2dbfbef1ceb",
   "metadata": {},
   "outputs": [],
   "source": [
    "# converting date string to date object in order to apply groupby on Date column\n",
    "df['Date'] = pd.to_datetime(df['Date'])"
   ]
  },
  {
   "cell_type": "code",
   "execution_count": 15,
   "id": "1c30ce9e-c6a2-41fb-aba6-b296ee0552a3",
   "metadata": {},
   "outputs": [],
   "source": [
    "# creating new column to store the Months\n",
    "df['Month'] = df['Date'].dt.month"
   ]
  },
  {
   "cell_type": "code",
   "execution_count": 16,
   "id": "595e682f-12b3-4795-ba6a-1a9f0ea9064f",
   "metadata": {},
   "outputs": [],
   "source": [
    "# creating new column to store the weekdays values\n",
    "df['Weekdays'] = df['Date'].dt.weekday"
   ]
  },
  {
   "cell_type": "code",
   "execution_count": 17,
   "id": "5fb29928-c928-49bd-88c9-92880750cf39",
   "metadata": {},
   "outputs": [
    {
     "data": {
      "text/html": [
       "<div>\n",
       "<style scoped>\n",
       "    .dataframe tbody tr th:only-of-type {\n",
       "        vertical-align: middle;\n",
       "    }\n",
       "\n",
       "    .dataframe tbody tr th {\n",
       "        vertical-align: top;\n",
       "    }\n",
       "\n",
       "    .dataframe thead th {\n",
       "        text-align: right;\n",
       "    }\n",
       "</style>\n",
       "<table border=\"1\" class=\"dataframe\">\n",
       "  <thead>\n",
       "    <tr style=\"text-align: right;\">\n",
       "      <th></th>\n",
       "      <th>Date</th>\n",
       "      <th>Time</th>\n",
       "      <th>State</th>\n",
       "      <th>Group</th>\n",
       "      <th>Unit</th>\n",
       "      <th>Sales</th>\n",
       "      <th>Month</th>\n",
       "      <th>Weekdays</th>\n",
       "    </tr>\n",
       "  </thead>\n",
       "  <tbody>\n",
       "    <tr>\n",
       "      <th>0</th>\n",
       "      <td>2020-10-01</td>\n",
       "      <td>Morning</td>\n",
       "      <td>WA</td>\n",
       "      <td>Kids</td>\n",
       "      <td>8</td>\n",
       "      <td>20000</td>\n",
       "      <td>10</td>\n",
       "      <td>3</td>\n",
       "    </tr>\n",
       "    <tr>\n",
       "      <th>1</th>\n",
       "      <td>2020-10-01</td>\n",
       "      <td>Morning</td>\n",
       "      <td>WA</td>\n",
       "      <td>Men</td>\n",
       "      <td>8</td>\n",
       "      <td>20000</td>\n",
       "      <td>10</td>\n",
       "      <td>3</td>\n",
       "    </tr>\n",
       "    <tr>\n",
       "      <th>2</th>\n",
       "      <td>2020-10-01</td>\n",
       "      <td>Morning</td>\n",
       "      <td>WA</td>\n",
       "      <td>Women</td>\n",
       "      <td>4</td>\n",
       "      <td>10000</td>\n",
       "      <td>10</td>\n",
       "      <td>3</td>\n",
       "    </tr>\n",
       "    <tr>\n",
       "      <th>3</th>\n",
       "      <td>2020-10-01</td>\n",
       "      <td>Morning</td>\n",
       "      <td>WA</td>\n",
       "      <td>Seniors</td>\n",
       "      <td>15</td>\n",
       "      <td>37500</td>\n",
       "      <td>10</td>\n",
       "      <td>3</td>\n",
       "    </tr>\n",
       "    <tr>\n",
       "      <th>4</th>\n",
       "      <td>2020-10-01</td>\n",
       "      <td>Afternoon</td>\n",
       "      <td>WA</td>\n",
       "      <td>Kids</td>\n",
       "      <td>3</td>\n",
       "      <td>7500</td>\n",
       "      <td>10</td>\n",
       "      <td>3</td>\n",
       "    </tr>\n",
       "    <tr>\n",
       "      <th>...</th>\n",
       "      <td>...</td>\n",
       "      <td>...</td>\n",
       "      <td>...</td>\n",
       "      <td>...</td>\n",
       "      <td>...</td>\n",
       "      <td>...</td>\n",
       "      <td>...</td>\n",
       "      <td>...</td>\n",
       "    </tr>\n",
       "    <tr>\n",
       "      <th>7555</th>\n",
       "      <td>2020-12-30</td>\n",
       "      <td>Afternoon</td>\n",
       "      <td>TAS</td>\n",
       "      <td>Seniors</td>\n",
       "      <td>14</td>\n",
       "      <td>35000</td>\n",
       "      <td>12</td>\n",
       "      <td>2</td>\n",
       "    </tr>\n",
       "    <tr>\n",
       "      <th>7556</th>\n",
       "      <td>2020-12-30</td>\n",
       "      <td>Evening</td>\n",
       "      <td>TAS</td>\n",
       "      <td>Kids</td>\n",
       "      <td>15</td>\n",
       "      <td>37500</td>\n",
       "      <td>12</td>\n",
       "      <td>2</td>\n",
       "    </tr>\n",
       "    <tr>\n",
       "      <th>7557</th>\n",
       "      <td>2020-12-30</td>\n",
       "      <td>Evening</td>\n",
       "      <td>TAS</td>\n",
       "      <td>Men</td>\n",
       "      <td>15</td>\n",
       "      <td>37500</td>\n",
       "      <td>12</td>\n",
       "      <td>2</td>\n",
       "    </tr>\n",
       "    <tr>\n",
       "      <th>7558</th>\n",
       "      <td>2020-12-30</td>\n",
       "      <td>Evening</td>\n",
       "      <td>TAS</td>\n",
       "      <td>Women</td>\n",
       "      <td>11</td>\n",
       "      <td>27500</td>\n",
       "      <td>12</td>\n",
       "      <td>2</td>\n",
       "    </tr>\n",
       "    <tr>\n",
       "      <th>7559</th>\n",
       "      <td>2020-12-30</td>\n",
       "      <td>Evening</td>\n",
       "      <td>TAS</td>\n",
       "      <td>Seniors</td>\n",
       "      <td>13</td>\n",
       "      <td>32500</td>\n",
       "      <td>12</td>\n",
       "      <td>2</td>\n",
       "    </tr>\n",
       "  </tbody>\n",
       "</table>\n",
       "<p>7560 rows × 8 columns</p>\n",
       "</div>"
      ],
      "text/plain": [
       "           Date        Time State     Group  Unit  Sales  Month  Weekdays\n",
       "0    2020-10-01     Morning    WA      Kids     8  20000     10         3\n",
       "1    2020-10-01     Morning    WA       Men     8  20000     10         3\n",
       "2    2020-10-01     Morning    WA     Women     4  10000     10         3\n",
       "3    2020-10-01     Morning    WA   Seniors    15  37500     10         3\n",
       "4    2020-10-01   Afternoon    WA      Kids     3   7500     10         3\n",
       "...         ...         ...   ...       ...   ...    ...    ...       ...\n",
       "7555 2020-12-30   Afternoon   TAS   Seniors    14  35000     12         2\n",
       "7556 2020-12-30     Evening   TAS      Kids    15  37500     12         2\n",
       "7557 2020-12-30     Evening   TAS       Men    15  37500     12         2\n",
       "7558 2020-12-30     Evening   TAS     Women    11  27500     12         2\n",
       "7559 2020-12-30     Evening   TAS   Seniors    13  32500     12         2\n",
       "\n",
       "[7560 rows x 8 columns]"
      ]
     },
     "execution_count": 17,
     "metadata": {},
     "output_type": "execute_result"
    }
   ],
   "source": [
    "#displaying the updated dataframe\n",
    "df"
   ]
  },
  {
   "cell_type": "code",
   "execution_count": 19,
   "id": "c2555367-8adf-4639-8c81-3daecd489a0d",
   "metadata": {},
   "outputs": [
    {
     "data": {
      "text/html": [
       "<div>\n",
       "<style scoped>\n",
       "    .dataframe tbody tr th:only-of-type {\n",
       "        vertical-align: middle;\n",
       "    }\n",
       "\n",
       "    .dataframe tbody tr th {\n",
       "        vertical-align: top;\n",
       "    }\n",
       "\n",
       "    .dataframe thead th {\n",
       "        text-align: right;\n",
       "    }\n",
       "</style>\n",
       "<table border=\"1\" class=\"dataframe\">\n",
       "  <thead>\n",
       "    <tr style=\"text-align: right;\">\n",
       "      <th></th>\n",
       "      <th>Date</th>\n",
       "      <th>Time</th>\n",
       "      <th>State</th>\n",
       "      <th>Group</th>\n",
       "      <th>Unit</th>\n",
       "      <th>Sales</th>\n",
       "      <th>Month</th>\n",
       "      <th>Weekdays</th>\n",
       "    </tr>\n",
       "  </thead>\n",
       "  <tbody>\n",
       "    <tr>\n",
       "      <th>168</th>\n",
       "      <td>2020-10-03</td>\n",
       "      <td>Morning</td>\n",
       "      <td>WA</td>\n",
       "      <td>Kids</td>\n",
       "      <td>15</td>\n",
       "      <td>37500</td>\n",
       "      <td>10</td>\n",
       "      <td>5</td>\n",
       "    </tr>\n",
       "    <tr>\n",
       "      <th>169</th>\n",
       "      <td>2020-10-03</td>\n",
       "      <td>Morning</td>\n",
       "      <td>WA</td>\n",
       "      <td>Men</td>\n",
       "      <td>13</td>\n",
       "      <td>32500</td>\n",
       "      <td>10</td>\n",
       "      <td>5</td>\n",
       "    </tr>\n",
       "    <tr>\n",
       "      <th>170</th>\n",
       "      <td>2020-10-03</td>\n",
       "      <td>Morning</td>\n",
       "      <td>WA</td>\n",
       "      <td>Women</td>\n",
       "      <td>6</td>\n",
       "      <td>15000</td>\n",
       "      <td>10</td>\n",
       "      <td>5</td>\n",
       "    </tr>\n",
       "    <tr>\n",
       "      <th>171</th>\n",
       "      <td>2020-10-03</td>\n",
       "      <td>Morning</td>\n",
       "      <td>WA</td>\n",
       "      <td>Seniors</td>\n",
       "      <td>3</td>\n",
       "      <td>7500</td>\n",
       "      <td>10</td>\n",
       "      <td>5</td>\n",
       "    </tr>\n",
       "    <tr>\n",
       "      <th>172</th>\n",
       "      <td>2020-10-03</td>\n",
       "      <td>Afternoon</td>\n",
       "      <td>WA</td>\n",
       "      <td>Kids</td>\n",
       "      <td>9</td>\n",
       "      <td>22500</td>\n",
       "      <td>10</td>\n",
       "      <td>5</td>\n",
       "    </tr>\n",
       "  </tbody>\n",
       "</table>\n",
       "</div>"
      ],
      "text/plain": [
       "          Date        Time State     Group  Unit  Sales  Month  Weekdays\n",
       "168 2020-10-03     Morning    WA      Kids    15  37500     10         5\n",
       "169 2020-10-03     Morning    WA       Men    13  32500     10         5\n",
       "170 2020-10-03     Morning    WA     Women     6  15000     10         5\n",
       "171 2020-10-03     Morning    WA   Seniors     3   7500     10         5\n",
       "172 2020-10-03   Afternoon    WA      Kids     9  22500     10         5"
      ]
     },
     "execution_count": 19,
     "metadata": {},
     "output_type": "execute_result"
    }
   ],
   "source": [
    "df[df['Weekdays'] == 5].head() # verifying dataframe with specific weekdays value"
   ]
  },
  {
   "cell_type": "code",
   "execution_count": 20,
   "id": "8640aad9-31d1-4c49-96d0-d0c4443081a6",
   "metadata": {},
   "outputs": [
    {
     "data": {
      "text/plain": [
       "Month\n",
       "10    114290000\n",
       "11     90682500\n",
       "12    135330000\n",
       "Name: Sales, dtype: int64"
      ]
     },
     "execution_count": 20,
     "metadata": {},
     "output_type": "execute_result"
    }
   ],
   "source": [
    "# use groupby to identify Month wise total spending\n",
    "df.groupby(['Month'])['Sales'].sum()"
   ]
  },
  {
   "cell_type": "code",
   "execution_count": 21,
   "id": "06f001e1-4848-4dfd-8889-f5f65401fea2",
   "metadata": {},
   "outputs": [
    {
     "data": {
      "text/plain": [
       "Weekdays\n",
       "0    48050000\n",
       "1    50327500\n",
       "2    49945000\n",
       "3    49405000\n",
       "4    48000000\n",
       "5    46245000\n",
       "6    48330000\n",
       "Name: Sales, dtype: int64"
      ]
     },
     "execution_count": 21,
     "metadata": {},
     "output_type": "execute_result"
    }
   ],
   "source": [
    "# use groupby to identify weekday wise total spending\n",
    "df.groupby(['Weekdays'])['Sales'].sum()"
   ]
  },
  {
   "cell_type": "code",
   "execution_count": 77,
   "id": "acaa5d69-33b1-4405-81a8-f19182511e9d",
   "metadata": {},
   "outputs": [
    {
     "data": {
      "text/plain": [
       "Month  State\n",
       "10      NSW     25007500\n",
       "        NT       8222500\n",
       "        QLD     11120000\n",
       "        SA      20610000\n",
       "        TAS      8015000\n",
       "        VIC     33442500\n",
       "        WA       7872500\n",
       "11      NSW     21490000\n",
       "        NT       5257500\n",
       "        QLD      8110000\n",
       "        SA      15532500\n",
       "        TAS      5545000\n",
       "        VIC     29530000\n",
       "        WA       5217500\n",
       "12      NSW     28472500\n",
       "        NT       9100000\n",
       "        QLD     14187500\n",
       "        SA      22715000\n",
       "        TAS      9200000\n",
       "        VIC     42592500\n",
       "        WA       9062500\n",
       "Name: Sales, dtype: int64"
      ]
     },
     "execution_count": 77,
     "metadata": {},
     "output_type": "execute_result"
    }
   ],
   "source": [
    "# use groupby to identify total spending from a state on a specific Month\n",
    "df.groupby(['Month','State'])['Sales'].sum()"
   ]
  },
  {
   "cell_type": "code",
   "execution_count": 22,
   "id": "749e314d-572c-4d51-949f-9c5b001e6268",
   "metadata": {},
   "outputs": [
    {
     "data": {
      "text/html": [
       "<div>\n",
       "<style scoped>\n",
       "    .dataframe tbody tr th:only-of-type {\n",
       "        vertical-align: middle;\n",
       "    }\n",
       "\n",
       "    .dataframe tbody tr th {\n",
       "        vertical-align: top;\n",
       "    }\n",
       "\n",
       "    .dataframe thead th {\n",
       "        text-align: right;\n",
       "    }\n",
       "</style>\n",
       "<table border=\"1\" class=\"dataframe\">\n",
       "  <thead>\n",
       "    <tr style=\"text-align: right;\">\n",
       "      <th>Weekdays</th>\n",
       "      <th>0</th>\n",
       "      <th>1</th>\n",
       "      <th>2</th>\n",
       "      <th>3</th>\n",
       "      <th>4</th>\n",
       "      <th>5</th>\n",
       "      <th>6</th>\n",
       "    </tr>\n",
       "    <tr>\n",
       "      <th>State</th>\n",
       "      <th></th>\n",
       "      <th></th>\n",
       "      <th></th>\n",
       "      <th></th>\n",
       "      <th></th>\n",
       "      <th></th>\n",
       "      <th></th>\n",
       "    </tr>\n",
       "  </thead>\n",
       "  <tbody>\n",
       "    <tr>\n",
       "      <th>NSW</th>\n",
       "      <td>10075000.0</td>\n",
       "      <td>11217500.0</td>\n",
       "      <td>11345000.0</td>\n",
       "      <td>10657500.0</td>\n",
       "      <td>10692500.0</td>\n",
       "      <td>10362500.0</td>\n",
       "      <td>10620000.0</td>\n",
       "    </tr>\n",
       "    <tr>\n",
       "      <th>NT</th>\n",
       "      <td>3247500.0</td>\n",
       "      <td>3332500.0</td>\n",
       "      <td>3347500.0</td>\n",
       "      <td>3285000.0</td>\n",
       "      <td>3265000.0</td>\n",
       "      <td>2900000.0</td>\n",
       "      <td>3202500.0</td>\n",
       "    </tr>\n",
       "    <tr>\n",
       "      <th>QLD</th>\n",
       "      <td>4625000.0</td>\n",
       "      <td>4962500.0</td>\n",
       "      <td>4892500.0</td>\n",
       "      <td>4762500.0</td>\n",
       "      <td>4650000.0</td>\n",
       "      <td>4882500.0</td>\n",
       "      <td>4642500.0</td>\n",
       "    </tr>\n",
       "    <tr>\n",
       "      <th>SA</th>\n",
       "      <td>8320000.0</td>\n",
       "      <td>8565000.0</td>\n",
       "      <td>8322500.0</td>\n",
       "      <td>8670000.0</td>\n",
       "      <td>8562500.0</td>\n",
       "      <td>7937500.0</td>\n",
       "      <td>8480000.0</td>\n",
       "    </tr>\n",
       "    <tr>\n",
       "      <th>TAS</th>\n",
       "      <td>3105000.0</td>\n",
       "      <td>3322500.0</td>\n",
       "      <td>3400000.0</td>\n",
       "      <td>3397500.0</td>\n",
       "      <td>3217500.0</td>\n",
       "      <td>3042500.0</td>\n",
       "      <td>3275000.0</td>\n",
       "    </tr>\n",
       "    <tr>\n",
       "      <th>VIC</th>\n",
       "      <td>15552500.0</td>\n",
       "      <td>15642500.0</td>\n",
       "      <td>15332500.0</td>\n",
       "      <td>15530000.0</td>\n",
       "      <td>14480000.0</td>\n",
       "      <td>14127500.0</td>\n",
       "      <td>14900000.0</td>\n",
       "    </tr>\n",
       "    <tr>\n",
       "      <th>WA</th>\n",
       "      <td>3125000.0</td>\n",
       "      <td>3285000.0</td>\n",
       "      <td>3305000.0</td>\n",
       "      <td>3102500.0</td>\n",
       "      <td>3132500.0</td>\n",
       "      <td>2992500.0</td>\n",
       "      <td>3210000.0</td>\n",
       "    </tr>\n",
       "  </tbody>\n",
       "</table>\n",
       "</div>"
      ],
      "text/plain": [
       "Weekdays           0           1           2           3           4  \\\n",
       "State                                                                  \n",
       " NSW      10075000.0  11217500.0  11345000.0  10657500.0  10692500.0   \n",
       " NT        3247500.0   3332500.0   3347500.0   3285000.0   3265000.0   \n",
       " QLD       4625000.0   4962500.0   4892500.0   4762500.0   4650000.0   \n",
       " SA        8320000.0   8565000.0   8322500.0   8670000.0   8562500.0   \n",
       " TAS       3105000.0   3322500.0   3400000.0   3397500.0   3217500.0   \n",
       " VIC      15552500.0  15642500.0  15332500.0  15530000.0  14480000.0   \n",
       " WA        3125000.0   3285000.0   3305000.0   3102500.0   3132500.0   \n",
       "\n",
       "Weekdays           5           6  \n",
       "State                             \n",
       " NSW      10362500.0  10620000.0  \n",
       " NT        2900000.0   3202500.0  \n",
       " QLD       4882500.0   4642500.0  \n",
       " SA        7937500.0   8480000.0  \n",
       " TAS       3042500.0   3275000.0  \n",
       " VIC      14127500.0  14900000.0  \n",
       " WA        2992500.0   3210000.0  "
      ]
     },
     "execution_count": 22,
     "metadata": {},
     "output_type": "execute_result"
    }
   ],
   "source": [
    "# use groupby to identify total spending from a state on a specific day of a week\n",
    "df1=df.groupby(['Weekdays','State'])['Sales'].sum().reset_index()\n",
    "df_pivoted = df1.pivot_table(index='State', columns='Weekdays', values='Sales')\n",
    "df_pivoted"
   ]
  },
  {
   "cell_type": "code",
   "execution_count": 23,
   "id": "aa572f2f-e88a-423d-8d7f-f442cfba8604",
   "metadata": {},
   "outputs": [
    {
     "data": {
      "text/plain": [
       "Month  Group   \n",
       "10      Kids       28635000\n",
       "        Men        28885000\n",
       "        Seniors    28565000\n",
       "        Women      28205000\n",
       "11      Kids       22882500\n",
       "        Men        22615000\n",
       "        Seniors    22322500\n",
       "        Women      22862500\n",
       "12      Kids       33555000\n",
       "        Men        34250000\n",
       "        Seniors    33150000\n",
       "        Women      34375000\n",
       "Name: Sales, dtype: int64"
      ]
     },
     "execution_count": 23,
     "metadata": {},
     "output_type": "execute_result"
    }
   ],
   "source": [
    "# use groupby to identify total spending from a state on a specific Month\n",
    "df.groupby(['Month','Group'])['Sales'].sum()"
   ]
  },
  {
   "cell_type": "code",
   "execution_count": 24,
   "id": "03590cc5-7ac9-44da-8eea-2644dad0384b",
   "metadata": {},
   "outputs": [
    {
     "data": {
      "text/plain": [
       "Weekdays  Group   \n",
       "0          Kids       12112500\n",
       "           Men        12350000\n",
       "           Seniors    11587500\n",
       "           Women      12000000\n",
       "1          Kids       12832500\n",
       "           Men        12065000\n",
       "           Seniors    12667500\n",
       "           Women      12762500\n",
       "2          Kids       12370000\n",
       "           Men        12832500\n",
       "           Seniors    12377500\n",
       "           Women      12365000\n",
       "3          Kids       12497500\n",
       "           Men        12315000\n",
       "           Seniors    12310000\n",
       "           Women      12282500\n",
       "4          Kids       12015000\n",
       "           Men        12430000\n",
       "           Seniors    11577500\n",
       "           Women      11977500\n",
       "5          Kids       11457500\n",
       "           Men        11620000\n",
       "           Seniors    11477500\n",
       "           Women      11690000\n",
       "6          Kids       11787500\n",
       "           Men        12137500\n",
       "           Seniors    12040000\n",
       "           Women      12365000\n",
       "Name: Sales, dtype: int64"
      ]
     },
     "execution_count": 24,
     "metadata": {},
     "output_type": "execute_result"
    }
   ],
   "source": [
    "# use groupby to identify total spending from a group on a specific day of a week\n",
    "df.groupby(['Weekdays','Group'])['Sales'].sum()"
   ]
  },
  {
   "cell_type": "code",
   "execution_count": 80,
   "id": "bb9ff526-51ec-436c-b556-51574c4f0204",
   "metadata": {},
   "outputs": [
    {
     "data": {
      "text/plain": [
       "Month  Weekdays\n",
       "10     0           15352500\n",
       "       1           15200000\n",
       "       2           15287500\n",
       "       3           19027500\n",
       "       4           18620000\n",
       "       5           15682500\n",
       "       6           15120000\n",
       "11     0           14750000\n",
       "       1           12182500\n",
       "       2           11960000\n",
       "       3           12115000\n",
       "       4           11845000\n",
       "       5           12375000\n",
       "       6           15455000\n",
       "12     0           17947500\n",
       "       1           22945000\n",
       "       2           22697500\n",
       "       3           18262500\n",
       "       4           17535000\n",
       "       5           18187500\n",
       "       6           17755000\n",
       "Name: Sales, dtype: int64"
      ]
     },
     "execution_count": 80,
     "metadata": {},
     "output_type": "execute_result"
    }
   ],
   "source": [
    "# use groupby to identify total spending on a secific day of a week on a specific month\n",
    "df.groupby(['Month','Weekdays'])['Sales'].sum()"
   ]
  },
  {
   "cell_type": "markdown",
   "id": "0744ce09-dc53-4943-a06f-de7e342722eb",
   "metadata": {},
   "source": [
    "*Ans : Above are some example that explains how we could use groupby on all cloumns with categorical data*"
   ]
  },
  {
   "cell_type": "markdown",
   "id": "5d9bd6cf-aa72-4382-b6bb-8ae30eb8fc11",
   "metadata": {},
   "source": [
    "## 2.\tData Analysis\r\n"
   ]
  },
  {
   "cell_type": "markdown",
   "id": "6c963d28-2448-4fd8-a53b-31b8fe091e96",
   "metadata": {},
   "source": [
    "* **Perform descriptive statistical analysis on the data (Sales and Unit columns)**"
   ]
  },
  {
   "cell_type": "code",
   "execution_count": 25,
   "id": "8d79825e-d3ec-4186-9125-2103159e3df8",
   "metadata": {},
   "outputs": [
    {
     "data": {
      "text/plain": [
       "count    7560.000000\n",
       "mean       18.005423\n",
       "std        12.901403\n",
       "min         2.000000\n",
       "25%         8.000000\n",
       "50%        14.000000\n",
       "75%        26.000000\n",
       "max        65.000000\n",
       "Name: Unit, dtype: float64"
      ]
     },
     "execution_count": 25,
     "metadata": {},
     "output_type": "execute_result"
    }
   ],
   "source": [
    "df['Unit'].describe()"
   ]
  },
  {
   "cell_type": "code",
   "execution_count": 26,
   "id": "2fbe8621-2189-424e-9bbd-be930d04798c",
   "metadata": {},
   "outputs": [
    {
     "data": {
      "text/plain": [
       "14.0"
      ]
     },
     "execution_count": 26,
     "metadata": {},
     "output_type": "execute_result"
    }
   ],
   "source": [
    "df['Unit'].median()"
   ]
  },
  {
   "cell_type": "markdown",
   "id": "b7a648fc-08b9-43e6-bdef-c7d3c9bceda5",
   "metadata": {},
   "source": [
    "*Note : standard deviation is 12.9, mean is 18.0, mode is 14.0 there is a huge gap between min and max value in unit.<br>\n",
    "As median is lower than mean in Unit it is also indicating positively skewed data and posibility of outliers<br>\n",
    "and IQR = 26-8 = 18 so, 50% of data falling between this range*"
   ]
  },
  {
   "cell_type": "code",
   "execution_count": 94,
   "id": "d82cbfff-d6d5-4243-9e33-ac04ce2d7cf1",
   "metadata": {},
   "outputs": [
    {
     "data": {
      "text/plain": [
       "count      7560.000000\n",
       "mean      45013.558201\n",
       "std       32253.506944\n",
       "min        5000.000000\n",
       "25%       20000.000000\n",
       "50%       35000.000000\n",
       "75%       65000.000000\n",
       "max      162500.000000\n",
       "Name: Sales, dtype: float64"
      ]
     },
     "execution_count": 94,
     "metadata": {},
     "output_type": "execute_result"
    }
   ],
   "source": [
    "df['Sales'].describe()"
   ]
  },
  {
   "cell_type": "code",
   "execution_count": 97,
   "id": "dbbbc55e-04cb-449c-a427-7dd475a310fc",
   "metadata": {},
   "outputs": [
    {
     "data": {
      "text/plain": [
       "35000.0"
      ]
     },
     "execution_count": 97,
     "metadata": {},
     "output_type": "execute_result"
    }
   ],
   "source": [
    "df['Sales'].median()"
   ]
  },
  {
   "cell_type": "markdown",
   "id": "2f4ad858-097c-43a5-8abf-3249150a8e9d",
   "metadata": {},
   "source": [
    "*Note : standard deviation is 32253.5, mean is 45013, mode is 35000.0 there is a huge gap between min and max value in sales<br>\n",
    "Descriptive analysis on Sales is also indicating that there might be some outliers for the positively skewed data as median is lower than mean<br>\n",
    "and IQR = 65000-20000 = 45000 so, 50% of data falling between this range*"
   ]
  },
  {
   "cell_type": "markdown",
   "id": "bf8db06c-dc84-4154-8534-9ca422efb1ac",
   "metadata": {},
   "source": [
    "* **Determine which group is generating the highest sales, and which group is generating the lowest sales.**"
   ]
  },
  {
   "cell_type": "code",
   "execution_count": 106,
   "id": "ca6c4c7a-ec41-42f1-8b4f-9810dddf5119",
   "metadata": {},
   "outputs": [
    {
     "data": {
      "text/html": [
       "<div>\n",
       "<style scoped>\n",
       "    .dataframe tbody tr th:only-of-type {\n",
       "        vertical-align: middle;\n",
       "    }\n",
       "\n",
       "    .dataframe tbody tr th {\n",
       "        vertical-align: top;\n",
       "    }\n",
       "\n",
       "    .dataframe thead th {\n",
       "        text-align: right;\n",
       "    }\n",
       "</style>\n",
       "<table border=\"1\" class=\"dataframe\">\n",
       "  <thead>\n",
       "    <tr style=\"text-align: right;\">\n",
       "      <th></th>\n",
       "      <th>Group</th>\n",
       "      <th>Sales</th>\n",
       "    </tr>\n",
       "  </thead>\n",
       "  <tbody>\n",
       "    <tr>\n",
       "      <th>0</th>\n",
       "      <td>Kids</td>\n",
       "      <td>85072500</td>\n",
       "    </tr>\n",
       "    <tr>\n",
       "      <th>1</th>\n",
       "      <td>Men</td>\n",
       "      <td>85750000</td>\n",
       "    </tr>\n",
       "    <tr>\n",
       "      <th>2</th>\n",
       "      <td>Seniors</td>\n",
       "      <td>84037500</td>\n",
       "    </tr>\n",
       "    <tr>\n",
       "      <th>3</th>\n",
       "      <td>Women</td>\n",
       "      <td>85442500</td>\n",
       "    </tr>\n",
       "  </tbody>\n",
       "</table>\n",
       "</div>"
      ],
      "text/plain": [
       "      Group     Sales\n",
       "0      Kids  85072500\n",
       "1       Men  85750000\n",
       "2   Seniors  84037500\n",
       "3     Women  85442500"
      ]
     },
     "execution_count": 106,
     "metadata": {},
     "output_type": "execute_result"
    }
   ],
   "source": [
    "# Checking Total sales by different Group\n",
    "df.groupby('Group')['Sales'].sum().reset_index()"
   ]
  },
  {
   "cell_type": "code",
   "execution_count": 103,
   "id": "1d4877a2-6ece-4db1-9a17-903a7a8228a2",
   "metadata": {},
   "outputs": [
    {
     "data": {
      "text/html": [
       "<div>\n",
       "<style scoped>\n",
       "    .dataframe tbody tr th:only-of-type {\n",
       "        vertical-align: middle;\n",
       "    }\n",
       "\n",
       "    .dataframe tbody tr th {\n",
       "        vertical-align: top;\n",
       "    }\n",
       "\n",
       "    .dataframe thead th {\n",
       "        text-align: right;\n",
       "    }\n",
       "</style>\n",
       "<table border=\"1\" class=\"dataframe\">\n",
       "  <thead>\n",
       "    <tr style=\"text-align: right;\">\n",
       "      <th></th>\n",
       "      <th>Group</th>\n",
       "      <th>Sales</th>\n",
       "    </tr>\n",
       "  </thead>\n",
       "  <tbody>\n",
       "    <tr>\n",
       "      <th>1</th>\n",
       "      <td>Men</td>\n",
       "      <td>85750000</td>\n",
       "    </tr>\n",
       "  </tbody>\n",
       "</table>\n",
       "</div>"
      ],
      "text/plain": [
       "  Group     Sales\n",
       "1   Men  85750000"
      ]
     },
     "execution_count": 103,
     "metadata": {},
     "output_type": "execute_result"
    }
   ],
   "source": [
    "# Group that is generating max sales\n",
    "df1=df.groupby('Group')['Sales'].sum().reset_index()\n",
    "df1[df1['Sales']==df1['Sales'].max()]"
   ]
  },
  {
   "cell_type": "markdown",
   "id": "a87a4867-95c0-4a47-b6b6-ff4b9533b07a",
   "metadata": {},
   "source": [
    "*Note : Men Group is generating max sales of 85750000*"
   ]
  },
  {
   "cell_type": "code",
   "execution_count": 105,
   "id": "fc6fb241-82b8-420b-a030-85d7c6bd3f65",
   "metadata": {},
   "outputs": [
    {
     "data": {
      "text/html": [
       "<div>\n",
       "<style scoped>\n",
       "    .dataframe tbody tr th:only-of-type {\n",
       "        vertical-align: middle;\n",
       "    }\n",
       "\n",
       "    .dataframe tbody tr th {\n",
       "        vertical-align: top;\n",
       "    }\n",
       "\n",
       "    .dataframe thead th {\n",
       "        text-align: right;\n",
       "    }\n",
       "</style>\n",
       "<table border=\"1\" class=\"dataframe\">\n",
       "  <thead>\n",
       "    <tr style=\"text-align: right;\">\n",
       "      <th></th>\n",
       "      <th>Group</th>\n",
       "      <th>Sales</th>\n",
       "    </tr>\n",
       "  </thead>\n",
       "  <tbody>\n",
       "    <tr>\n",
       "      <th>2</th>\n",
       "      <td>Seniors</td>\n",
       "      <td>84037500</td>\n",
       "    </tr>\n",
       "  </tbody>\n",
       "</table>\n",
       "</div>"
      ],
      "text/plain": [
       "      Group     Sales\n",
       "2   Seniors  84037500"
      ]
     },
     "execution_count": 105,
     "metadata": {},
     "output_type": "execute_result"
    }
   ],
   "source": [
    "# Group that is generating min sales\n",
    "df1=df.groupby('Group')['Sales'].sum().reset_index()\n",
    "df1[df1['Sales']==df1['Sales'].min()]"
   ]
  },
  {
   "cell_type": "markdown",
   "id": "ac21c5ec-1d67-49b8-a20e-87b1a1f9b10e",
   "metadata": {},
   "source": [
    "*Note : Seniors Group is generating min sales of 84037500*"
   ]
  },
  {
   "cell_type": "markdown",
   "id": "c8de9cef-d291-4aa7-9f0c-03141719dc07",
   "metadata": {},
   "source": [
    "* **Determine which state is generating the highest sales, and which state is generating the lowest sales.**"
   ]
  },
  {
   "cell_type": "code",
   "execution_count": 33,
   "id": "9ab3a384-fe38-4053-b9f3-132b294876ee",
   "metadata": {},
   "outputs": [
    {
     "data": {
      "text/html": [
       "<div>\n",
       "<style scoped>\n",
       "    .dataframe tbody tr th:only-of-type {\n",
       "        vertical-align: middle;\n",
       "    }\n",
       "\n",
       "    .dataframe tbody tr th {\n",
       "        vertical-align: top;\n",
       "    }\n",
       "\n",
       "    .dataframe thead th {\n",
       "        text-align: right;\n",
       "    }\n",
       "</style>\n",
       "<table border=\"1\" class=\"dataframe\">\n",
       "  <thead>\n",
       "    <tr style=\"text-align: right;\">\n",
       "      <th></th>\n",
       "      <th>Sales</th>\n",
       "    </tr>\n",
       "    <tr>\n",
       "      <th>State</th>\n",
       "      <th></th>\n",
       "    </tr>\n",
       "  </thead>\n",
       "  <tbody>\n",
       "    <tr>\n",
       "      <th>VIC</th>\n",
       "      <td>105565000</td>\n",
       "    </tr>\n",
       "  </tbody>\n",
       "</table>\n",
       "</div>"
      ],
      "text/plain": [
       "           Sales\n",
       "State           \n",
       " VIC   105565000"
      ]
     },
     "execution_count": 33,
     "metadata": {},
     "output_type": "execute_result"
    }
   ],
   "source": [
    "# State that is generating max sales\n",
    "\n",
    "#df1=df.groupby('State')['Sales'].sum().reset_index()\n",
    "#df1[df1['Sales']==df1['Sales'].max()]\n",
    "\n",
    "# implementing the same in some other way\n",
    "df1=df.groupby('State')[['Sales']].sum()\n",
    "df1.loc[df1.idxmax()]"
   ]
  },
  {
   "cell_type": "markdown",
   "id": "4d14dd90-2409-43a2-9923-adf582a25814",
   "metadata": {},
   "source": [
    "*Note: State VIC is generating max sales*"
   ]
  },
  {
   "cell_type": "code",
   "execution_count": 35,
   "id": "4e98f564-8b85-4bb4-a7cb-35a6b09b0bf2",
   "metadata": {},
   "outputs": [
    {
     "data": {
      "text/html": [
       "<div>\n",
       "<style scoped>\n",
       "    .dataframe tbody tr th:only-of-type {\n",
       "        vertical-align: middle;\n",
       "    }\n",
       "\n",
       "    .dataframe tbody tr th {\n",
       "        vertical-align: top;\n",
       "    }\n",
       "\n",
       "    .dataframe thead th {\n",
       "        text-align: right;\n",
       "    }\n",
       "</style>\n",
       "<table border=\"1\" class=\"dataframe\">\n",
       "  <thead>\n",
       "    <tr style=\"text-align: right;\">\n",
       "      <th></th>\n",
       "      <th>State</th>\n",
       "      <th>Sales</th>\n",
       "    </tr>\n",
       "  </thead>\n",
       "  <tbody>\n",
       "    <tr>\n",
       "      <th>6</th>\n",
       "      <td>WA</td>\n",
       "      <td>22152500</td>\n",
       "    </tr>\n",
       "  </tbody>\n",
       "</table>\n",
       "</div>"
      ],
      "text/plain": [
       "  State     Sales\n",
       "6    WA  22152500"
      ]
     },
     "execution_count": 35,
     "metadata": {},
     "output_type": "execute_result"
    }
   ],
   "source": [
    "# State that is generating min sales\n",
    "df1=df.groupby('State')['Sales'].sum().reset_index()\n",
    "df1[df1['Sales']==df1['Sales'].min()]"
   ]
  },
  {
   "cell_type": "markdown",
   "id": "5a5f0354-9837-44eb-a13c-21908149f275",
   "metadata": {},
   "source": [
    "*Note: State WA is generating minimum sales*"
   ]
  },
  {
   "cell_type": "markdown",
   "id": "c224af84-b07e-45d1-9660-0db34b20874a",
   "metadata": {},
   "source": [
    "* **Generate weekly, monthly and quarterly reports for the analysis made**"
   ]
  },
  {
   "cell_type": "markdown",
   "id": "86cb093e-86ae-49a0-8695-81058978ce8d",
   "metadata": {},
   "source": [
    "*Weekly reports of different states on sales*"
   ]
  },
  {
   "cell_type": "code",
   "execution_count": 36,
   "id": "ddd3d17f-cf05-4da4-a0d0-01cd89666597",
   "metadata": {},
   "outputs": [
    {
     "data": {
      "text/html": [
       "<div>\n",
       "<style scoped>\n",
       "    .dataframe tbody tr th:only-of-type {\n",
       "        vertical-align: middle;\n",
       "    }\n",
       "\n",
       "    .dataframe tbody tr th {\n",
       "        vertical-align: top;\n",
       "    }\n",
       "\n",
       "    .dataframe thead th {\n",
       "        text-align: right;\n",
       "    }\n",
       "</style>\n",
       "<table border=\"1\" class=\"dataframe\">\n",
       "  <thead>\n",
       "    <tr style=\"text-align: right;\">\n",
       "      <th>Weekdays</th>\n",
       "      <th>0</th>\n",
       "      <th>1</th>\n",
       "      <th>2</th>\n",
       "      <th>3</th>\n",
       "      <th>4</th>\n",
       "      <th>5</th>\n",
       "      <th>6</th>\n",
       "    </tr>\n",
       "    <tr>\n",
       "      <th>State</th>\n",
       "      <th></th>\n",
       "      <th></th>\n",
       "      <th></th>\n",
       "      <th></th>\n",
       "      <th></th>\n",
       "      <th></th>\n",
       "      <th></th>\n",
       "    </tr>\n",
       "  </thead>\n",
       "  <tbody>\n",
       "    <tr>\n",
       "      <th>NSW</th>\n",
       "      <td>10075000.0</td>\n",
       "      <td>11217500.0</td>\n",
       "      <td>11345000.0</td>\n",
       "      <td>10657500.0</td>\n",
       "      <td>10692500.0</td>\n",
       "      <td>10362500.0</td>\n",
       "      <td>10620000.0</td>\n",
       "    </tr>\n",
       "    <tr>\n",
       "      <th>NT</th>\n",
       "      <td>3247500.0</td>\n",
       "      <td>3332500.0</td>\n",
       "      <td>3347500.0</td>\n",
       "      <td>3285000.0</td>\n",
       "      <td>3265000.0</td>\n",
       "      <td>2900000.0</td>\n",
       "      <td>3202500.0</td>\n",
       "    </tr>\n",
       "    <tr>\n",
       "      <th>QLD</th>\n",
       "      <td>4625000.0</td>\n",
       "      <td>4962500.0</td>\n",
       "      <td>4892500.0</td>\n",
       "      <td>4762500.0</td>\n",
       "      <td>4650000.0</td>\n",
       "      <td>4882500.0</td>\n",
       "      <td>4642500.0</td>\n",
       "    </tr>\n",
       "    <tr>\n",
       "      <th>SA</th>\n",
       "      <td>8320000.0</td>\n",
       "      <td>8565000.0</td>\n",
       "      <td>8322500.0</td>\n",
       "      <td>8670000.0</td>\n",
       "      <td>8562500.0</td>\n",
       "      <td>7937500.0</td>\n",
       "      <td>8480000.0</td>\n",
       "    </tr>\n",
       "    <tr>\n",
       "      <th>TAS</th>\n",
       "      <td>3105000.0</td>\n",
       "      <td>3322500.0</td>\n",
       "      <td>3400000.0</td>\n",
       "      <td>3397500.0</td>\n",
       "      <td>3217500.0</td>\n",
       "      <td>3042500.0</td>\n",
       "      <td>3275000.0</td>\n",
       "    </tr>\n",
       "    <tr>\n",
       "      <th>VIC</th>\n",
       "      <td>15552500.0</td>\n",
       "      <td>15642500.0</td>\n",
       "      <td>15332500.0</td>\n",
       "      <td>15530000.0</td>\n",
       "      <td>14480000.0</td>\n",
       "      <td>14127500.0</td>\n",
       "      <td>14900000.0</td>\n",
       "    </tr>\n",
       "    <tr>\n",
       "      <th>WA</th>\n",
       "      <td>3125000.0</td>\n",
       "      <td>3285000.0</td>\n",
       "      <td>3305000.0</td>\n",
       "      <td>3102500.0</td>\n",
       "      <td>3132500.0</td>\n",
       "      <td>2992500.0</td>\n",
       "      <td>3210000.0</td>\n",
       "    </tr>\n",
       "  </tbody>\n",
       "</table>\n",
       "</div>"
      ],
      "text/plain": [
       "Weekdays           0           1           2           3           4  \\\n",
       "State                                                                  \n",
       " NSW      10075000.0  11217500.0  11345000.0  10657500.0  10692500.0   \n",
       " NT        3247500.0   3332500.0   3347500.0   3285000.0   3265000.0   \n",
       " QLD       4625000.0   4962500.0   4892500.0   4762500.0   4650000.0   \n",
       " SA        8320000.0   8565000.0   8322500.0   8670000.0   8562500.0   \n",
       " TAS       3105000.0   3322500.0   3400000.0   3397500.0   3217500.0   \n",
       " VIC      15552500.0  15642500.0  15332500.0  15530000.0  14480000.0   \n",
       " WA        3125000.0   3285000.0   3305000.0   3102500.0   3132500.0   \n",
       "\n",
       "Weekdays           5           6  \n",
       "State                             \n",
       " NSW      10362500.0  10620000.0  \n",
       " NT        2900000.0   3202500.0  \n",
       " QLD       4882500.0   4642500.0  \n",
       " SA        7937500.0   8480000.0  \n",
       " TAS       3042500.0   3275000.0  \n",
       " VIC      14127500.0  14900000.0  \n",
       " WA        2992500.0   3210000.0  "
      ]
     },
     "execution_count": 36,
     "metadata": {},
     "output_type": "execute_result"
    }
   ],
   "source": [
    "# weekly reports of different states on sales\n",
    "df1=df.groupby(['State','Weekdays'])['Sales'].sum().reset_index()\n",
    "df_pivoted = df1.pivot_table(index='State', columns='Weekdays', values='Sales')\n",
    "df_pivoted\n"
   ]
  },
  {
   "cell_type": "markdown",
   "id": "9ce8a0c8-45cb-4a45-9704-bf8eca79ad62",
   "metadata": {},
   "source": [
    "*weekly reports of different Groups generating sales*"
   ]
  },
  {
   "cell_type": "code",
   "execution_count": 40,
   "id": "30e9e3c9-0b07-469b-93a8-393c3c3393de",
   "metadata": {},
   "outputs": [
    {
     "data": {
      "text/html": [
       "<div>\n",
       "<style scoped>\n",
       "    .dataframe tbody tr th:only-of-type {\n",
       "        vertical-align: middle;\n",
       "    }\n",
       "\n",
       "    .dataframe tbody tr th {\n",
       "        vertical-align: top;\n",
       "    }\n",
       "\n",
       "    .dataframe thead th {\n",
       "        text-align: right;\n",
       "    }\n",
       "</style>\n",
       "<table border=\"1\" class=\"dataframe\">\n",
       "  <thead>\n",
       "    <tr style=\"text-align: right;\">\n",
       "      <th>Weekdays</th>\n",
       "      <th>0</th>\n",
       "      <th>1</th>\n",
       "      <th>2</th>\n",
       "      <th>3</th>\n",
       "      <th>4</th>\n",
       "      <th>5</th>\n",
       "      <th>6</th>\n",
       "    </tr>\n",
       "    <tr>\n",
       "      <th>Group</th>\n",
       "      <th></th>\n",
       "      <th></th>\n",
       "      <th></th>\n",
       "      <th></th>\n",
       "      <th></th>\n",
       "      <th></th>\n",
       "      <th></th>\n",
       "    </tr>\n",
       "  </thead>\n",
       "  <tbody>\n",
       "    <tr>\n",
       "      <th>Kids</th>\n",
       "      <td>12112500.0</td>\n",
       "      <td>12832500.0</td>\n",
       "      <td>12370000.0</td>\n",
       "      <td>12497500.0</td>\n",
       "      <td>12015000.0</td>\n",
       "      <td>11457500.0</td>\n",
       "      <td>11787500.0</td>\n",
       "    </tr>\n",
       "    <tr>\n",
       "      <th>Men</th>\n",
       "      <td>12350000.0</td>\n",
       "      <td>12065000.0</td>\n",
       "      <td>12832500.0</td>\n",
       "      <td>12315000.0</td>\n",
       "      <td>12430000.0</td>\n",
       "      <td>11620000.0</td>\n",
       "      <td>12137500.0</td>\n",
       "    </tr>\n",
       "    <tr>\n",
       "      <th>Seniors</th>\n",
       "      <td>11587500.0</td>\n",
       "      <td>12667500.0</td>\n",
       "      <td>12377500.0</td>\n",
       "      <td>12310000.0</td>\n",
       "      <td>11577500.0</td>\n",
       "      <td>11477500.0</td>\n",
       "      <td>12040000.0</td>\n",
       "    </tr>\n",
       "    <tr>\n",
       "      <th>Women</th>\n",
       "      <td>12000000.0</td>\n",
       "      <td>12762500.0</td>\n",
       "      <td>12365000.0</td>\n",
       "      <td>12282500.0</td>\n",
       "      <td>11977500.0</td>\n",
       "      <td>11690000.0</td>\n",
       "      <td>12365000.0</td>\n",
       "    </tr>\n",
       "  </tbody>\n",
       "</table>\n",
       "</div>"
      ],
      "text/plain": [
       "Weekdays           0           1           2           3           4  \\\n",
       "Group                                                                  \n",
       " Kids     12112500.0  12832500.0  12370000.0  12497500.0  12015000.0   \n",
       " Men      12350000.0  12065000.0  12832500.0  12315000.0  12430000.0   \n",
       " Seniors  11587500.0  12667500.0  12377500.0  12310000.0  11577500.0   \n",
       " Women    12000000.0  12762500.0  12365000.0  12282500.0  11977500.0   \n",
       "\n",
       "Weekdays           5           6  \n",
       "Group                             \n",
       " Kids     11457500.0  11787500.0  \n",
       " Men      11620000.0  12137500.0  \n",
       " Seniors  11477500.0  12040000.0  \n",
       " Women    11690000.0  12365000.0  "
      ]
     },
     "execution_count": 40,
     "metadata": {},
     "output_type": "execute_result"
    }
   ],
   "source": [
    "# weekly reports of different Groups generating sales\n",
    "df1=df.groupby(['Group','Weekdays'])['Sales'].sum().reset_index()\n",
    "df_pivoted = df1.pivot_table(index='Group', columns='Weekdays', values='Sales')\n",
    "df_pivoted"
   ]
  },
  {
   "cell_type": "code",
   "execution_count": 38,
   "id": "d7682d7a-d0e8-4e44-a67f-36af291fa850",
   "metadata": {},
   "outputs": [
    {
     "data": {
      "text/html": [
       "<div>\n",
       "<style scoped>\n",
       "    .dataframe tbody tr th:only-of-type {\n",
       "        vertical-align: middle;\n",
       "    }\n",
       "\n",
       "    .dataframe tbody tr th {\n",
       "        vertical-align: top;\n",
       "    }\n",
       "\n",
       "    .dataframe thead th {\n",
       "        text-align: right;\n",
       "    }\n",
       "</style>\n",
       "<table border=\"1\" class=\"dataframe\">\n",
       "  <thead>\n",
       "    <tr style=\"text-align: right;\">\n",
       "      <th>Weekdays</th>\n",
       "      <th>0</th>\n",
       "      <th>1</th>\n",
       "      <th>2</th>\n",
       "      <th>3</th>\n",
       "      <th>4</th>\n",
       "      <th>5</th>\n",
       "      <th>6</th>\n",
       "    </tr>\n",
       "    <tr>\n",
       "      <th>Time</th>\n",
       "      <th></th>\n",
       "      <th></th>\n",
       "      <th></th>\n",
       "      <th></th>\n",
       "      <th></th>\n",
       "      <th></th>\n",
       "      <th></th>\n",
       "    </tr>\n",
       "  </thead>\n",
       "  <tbody>\n",
       "    <tr>\n",
       "      <th>Afternoon</th>\n",
       "      <td>16332500.0</td>\n",
       "      <td>16870000.0</td>\n",
       "      <td>16762500.0</td>\n",
       "      <td>16405000.0</td>\n",
       "      <td>16110000.0</td>\n",
       "      <td>15085000.0</td>\n",
       "      <td>16442500.0</td>\n",
       "    </tr>\n",
       "    <tr>\n",
       "      <th>Evening</th>\n",
       "      <td>15855000.0</td>\n",
       "      <td>16577500.0</td>\n",
       "      <td>16567500.0</td>\n",
       "      <td>16212500.0</td>\n",
       "      <td>15627500.0</td>\n",
       "      <td>15225000.0</td>\n",
       "      <td>16022500.0</td>\n",
       "    </tr>\n",
       "    <tr>\n",
       "      <th>Morning</th>\n",
       "      <td>15862500.0</td>\n",
       "      <td>16880000.0</td>\n",
       "      <td>16615000.0</td>\n",
       "      <td>16787500.0</td>\n",
       "      <td>16262500.0</td>\n",
       "      <td>15935000.0</td>\n",
       "      <td>15865000.0</td>\n",
       "    </tr>\n",
       "  </tbody>\n",
       "</table>\n",
       "</div>"
      ],
      "text/plain": [
       "Weekdays             0           1           2           3           4  \\\n",
       "Time                                                                     \n",
       " Afternoon  16332500.0  16870000.0  16762500.0  16405000.0  16110000.0   \n",
       " Evening    15855000.0  16577500.0  16567500.0  16212500.0  15627500.0   \n",
       " Morning    15862500.0  16880000.0  16615000.0  16787500.0  16262500.0   \n",
       "\n",
       "Weekdays             5           6  \n",
       "Time                                \n",
       " Afternoon  15085000.0  16442500.0  \n",
       " Evening    15225000.0  16022500.0  \n",
       " Morning    15935000.0  15865000.0  "
      ]
     },
     "execution_count": 38,
     "metadata": {},
     "output_type": "execute_result"
    }
   ],
   "source": [
    "# weekly reports of generating sales on different times\n",
    "df1=df.groupby(['Time','Weekdays'])['Sales'].sum().reset_index()\n",
    "df_pivoted = df1.pivot_table(index='Time', columns='Weekdays', values='Sales')\n",
    "df_pivoted"
   ]
  },
  {
   "cell_type": "code",
   "execution_count": 39,
   "id": "2840a8c5-d1c4-4813-ade9-ef322c4ec8bb",
   "metadata": {},
   "outputs": [
    {
     "data": {
      "text/html": [
       "<div>\n",
       "<style scoped>\n",
       "    .dataframe tbody tr th:only-of-type {\n",
       "        vertical-align: middle;\n",
       "    }\n",
       "\n",
       "    .dataframe tbody tr th {\n",
       "        vertical-align: top;\n",
       "    }\n",
       "\n",
       "    .dataframe thead th {\n",
       "        text-align: right;\n",
       "    }\n",
       "</style>\n",
       "<table border=\"1\" class=\"dataframe\">\n",
       "  <thead>\n",
       "    <tr style=\"text-align: right;\">\n",
       "      <th>State</th>\n",
       "      <th>NSW</th>\n",
       "      <th>NT</th>\n",
       "      <th>QLD</th>\n",
       "      <th>SA</th>\n",
       "      <th>TAS</th>\n",
       "      <th>VIC</th>\n",
       "      <th>WA</th>\n",
       "    </tr>\n",
       "    <tr>\n",
       "      <th>Month</th>\n",
       "      <th></th>\n",
       "      <th></th>\n",
       "      <th></th>\n",
       "      <th></th>\n",
       "      <th></th>\n",
       "      <th></th>\n",
       "      <th></th>\n",
       "    </tr>\n",
       "  </thead>\n",
       "  <tbody>\n",
       "    <tr>\n",
       "      <th>10</th>\n",
       "      <td>25007500.0</td>\n",
       "      <td>8222500.0</td>\n",
       "      <td>11120000.0</td>\n",
       "      <td>20610000.0</td>\n",
       "      <td>8015000.0</td>\n",
       "      <td>33442500.0</td>\n",
       "      <td>7872500.0</td>\n",
       "    </tr>\n",
       "    <tr>\n",
       "      <th>11</th>\n",
       "      <td>21490000.0</td>\n",
       "      <td>5257500.0</td>\n",
       "      <td>8110000.0</td>\n",
       "      <td>15532500.0</td>\n",
       "      <td>5545000.0</td>\n",
       "      <td>29530000.0</td>\n",
       "      <td>5217500.0</td>\n",
       "    </tr>\n",
       "    <tr>\n",
       "      <th>12</th>\n",
       "      <td>28472500.0</td>\n",
       "      <td>9100000.0</td>\n",
       "      <td>14187500.0</td>\n",
       "      <td>22715000.0</td>\n",
       "      <td>9200000.0</td>\n",
       "      <td>42592500.0</td>\n",
       "      <td>9062500.0</td>\n",
       "    </tr>\n",
       "  </tbody>\n",
       "</table>\n",
       "</div>"
      ],
      "text/plain": [
       "State         NSW         NT         QLD          SA        TAS         VIC  \\\n",
       "Month                                                                         \n",
       "10     25007500.0  8222500.0  11120000.0  20610000.0  8015000.0  33442500.0   \n",
       "11     21490000.0  5257500.0   8110000.0  15532500.0  5545000.0  29530000.0   \n",
       "12     28472500.0  9100000.0  14187500.0  22715000.0  9200000.0  42592500.0   \n",
       "\n",
       "State         WA  \n",
       "Month             \n",
       "10     7872500.0  \n",
       "11     5217500.0  \n",
       "12     9062500.0  "
      ]
     },
     "execution_count": 39,
     "metadata": {},
     "output_type": "execute_result"
    }
   ],
   "source": [
    "# Monthly reports of different states on sales\n",
    "df1=df.groupby(['State','Month'])['Sales'].sum().reset_index()\n",
    "df_pivoted = df1.pivot_table(index='Month', columns='State', values='Sales')\n",
    "df_pivoted"
   ]
  },
  {
   "cell_type": "code",
   "execution_count": 41,
   "id": "03d5333e-b2c3-4581-8cd9-a063f41f7592",
   "metadata": {},
   "outputs": [
    {
     "data": {
      "text/html": [
       "<div>\n",
       "<style scoped>\n",
       "    .dataframe tbody tr th:only-of-type {\n",
       "        vertical-align: middle;\n",
       "    }\n",
       "\n",
       "    .dataframe tbody tr th {\n",
       "        vertical-align: top;\n",
       "    }\n",
       "\n",
       "    .dataframe thead th {\n",
       "        text-align: right;\n",
       "    }\n",
       "</style>\n",
       "<table border=\"1\" class=\"dataframe\">\n",
       "  <thead>\n",
       "    <tr style=\"text-align: right;\">\n",
       "      <th>Month</th>\n",
       "      <th>10</th>\n",
       "      <th>11</th>\n",
       "      <th>12</th>\n",
       "    </tr>\n",
       "    <tr>\n",
       "      <th>Group</th>\n",
       "      <th></th>\n",
       "      <th></th>\n",
       "      <th></th>\n",
       "    </tr>\n",
       "  </thead>\n",
       "  <tbody>\n",
       "    <tr>\n",
       "      <th>Kids</th>\n",
       "      <td>28635000.0</td>\n",
       "      <td>22882500.0</td>\n",
       "      <td>33555000.0</td>\n",
       "    </tr>\n",
       "    <tr>\n",
       "      <th>Men</th>\n",
       "      <td>28885000.0</td>\n",
       "      <td>22615000.0</td>\n",
       "      <td>34250000.0</td>\n",
       "    </tr>\n",
       "    <tr>\n",
       "      <th>Seniors</th>\n",
       "      <td>28565000.0</td>\n",
       "      <td>22322500.0</td>\n",
       "      <td>33150000.0</td>\n",
       "    </tr>\n",
       "    <tr>\n",
       "      <th>Women</th>\n",
       "      <td>28205000.0</td>\n",
       "      <td>22862500.0</td>\n",
       "      <td>34375000.0</td>\n",
       "    </tr>\n",
       "  </tbody>\n",
       "</table>\n",
       "</div>"
      ],
      "text/plain": [
       "Month             10          11          12\n",
       "Group                                       \n",
       " Kids     28635000.0  22882500.0  33555000.0\n",
       " Men      28885000.0  22615000.0  34250000.0\n",
       " Seniors  28565000.0  22322500.0  33150000.0\n",
       " Women    28205000.0  22862500.0  34375000.0"
      ]
     },
     "execution_count": 41,
     "metadata": {},
     "output_type": "execute_result"
    }
   ],
   "source": [
    "# Monthly reports of different Groups generating total sales\n",
    "df1=df.groupby(['Group','Month'])['Sales'].sum().reset_index()\n",
    "df_pivoted = df1.pivot_table(index='Group', columns='Month', values='Sales')\n",
    "df_pivoted"
   ]
  },
  {
   "cell_type": "code",
   "execution_count": 43,
   "id": "77201e8b-0054-4d47-95a4-ccb73cad6692",
   "metadata": {},
   "outputs": [
    {
     "data": {
      "text/html": [
       "<div>\n",
       "<style scoped>\n",
       "    .dataframe tbody tr th:only-of-type {\n",
       "        vertical-align: middle;\n",
       "    }\n",
       "\n",
       "    .dataframe tbody tr th {\n",
       "        vertical-align: top;\n",
       "    }\n",
       "\n",
       "    .dataframe thead th {\n",
       "        text-align: right;\n",
       "    }\n",
       "</style>\n",
       "<table border=\"1\" class=\"dataframe\">\n",
       "  <thead>\n",
       "    <tr style=\"text-align: right;\">\n",
       "      <th>Month</th>\n",
       "      <th>10</th>\n",
       "      <th>11</th>\n",
       "      <th>12</th>\n",
       "    </tr>\n",
       "    <tr>\n",
       "      <th>Time</th>\n",
       "      <th></th>\n",
       "      <th></th>\n",
       "      <th></th>\n",
       "    </tr>\n",
       "  </thead>\n",
       "  <tbody>\n",
       "    <tr>\n",
       "      <th>Afternoon</th>\n",
       "      <td>37432500.0</td>\n",
       "      <td>30757500.0</td>\n",
       "      <td>45817500.0</td>\n",
       "    </tr>\n",
       "    <tr>\n",
       "      <th>Evening</th>\n",
       "      <td>38040000.0</td>\n",
       "      <td>29745000.0</td>\n",
       "      <td>44302500.0</td>\n",
       "    </tr>\n",
       "    <tr>\n",
       "      <th>Morning</th>\n",
       "      <td>38817500.0</td>\n",
       "      <td>30180000.0</td>\n",
       "      <td>45210000.0</td>\n",
       "    </tr>\n",
       "  </tbody>\n",
       "</table>\n",
       "</div>"
      ],
      "text/plain": [
       "Month               10          11          12\n",
       "Time                                          \n",
       " Afternoon  37432500.0  30757500.0  45817500.0\n",
       " Evening    38040000.0  29745000.0  44302500.0\n",
       " Morning    38817500.0  30180000.0  45210000.0"
      ]
     },
     "execution_count": 43,
     "metadata": {},
     "output_type": "execute_result"
    }
   ],
   "source": [
    "# Monthly reports of total sales on different times\n",
    "df1=df.groupby(['Time','Month'])['Sales'].sum().reset_index()\n",
    "df_pivoted = df1.pivot_table(index='Time', columns='Month', values='Sales')\n",
    "df_pivoted"
   ]
  },
  {
   "cell_type": "markdown",
   "id": "ab8c938e-6797-4580-a650-bbf094fe1f4c",
   "metadata": {},
   "source": [
    "*Note : Quarterly report could not be generated as there is only data present for last three months of a year*"
   ]
  },
  {
   "cell_type": "markdown",
   "id": "9f16768f-465b-46f7-a951-af9081d00a68",
   "metadata": {},
   "source": [
    "## 3.\tData Visualization"
   ]
  },
  {
   "cell_type": "code",
   "execution_count": 47,
   "id": "4048558e-c543-448b-a435-074f6c6fbb59",
   "metadata": {},
   "outputs": [],
   "source": [
    "# importing required libraries\n",
    "import seaborn as sns\n",
    "sns.set_theme()\n",
    "import matplotlib.pyplot as plt"
   ]
  },
  {
   "cell_type": "markdown",
   "id": "27e06693-65cd-441d-ac35-89f6cbd726ee",
   "metadata": {},
   "source": [
    "* **Use appropriate data visualization libraries to build a dashboard for the Head of S&M** "
   ]
  },
  {
   "cell_type": "markdown",
   "id": "3fe98d79-a804-48ef-82d9-190997f55aec",
   "metadata": {},
   "source": [
    "**State-wise sales analysis for different groups (kids, women, men, and seniors)**"
   ]
  },
  {
   "cell_type": "code",
   "execution_count": 59,
   "id": "80f0a48b-53a9-4f8d-8581-bf7e61879ce6",
   "metadata": {},
   "outputs": [
    {
     "data": {
      "image/png": "[encoded data removed]",
      "text/plain": [
       "<Figure size 640x480 with 1 Axes>"
      ]
     },
     "metadata": {},
     "output_type": "display_data"
    }
   ],
   "source": [
    "# creating new dataframe from the existing to deal with required data and generate specific info\n",
    "df1=df.groupby(['State','Group'])['Sales'].sum().reset_index()\n",
    "\n",
    "# \n",
    "sns.barplot(x='State', y='Sales', data=df1, hue='Group')\n",
    "plt.title('Bar plot: Average total bill by day (Differentiated by gender)')\n",
    "plt.show()"
   ]
  },
  {
   "cell_type": "markdown",
   "id": "9f1a23d5-fc0d-41f5-bb14-c9604f726c6f",
   "metadata": {},
   "source": [
    "*Here Scale of the sales is higher. So scaling it down by 1million and plotting the graph again* "
   ]
  },
  {
   "cell_type": "code",
   "execution_count": 63,
   "id": "231cb5b8-14bd-4b22-bada-59f2ff8d50ff",
   "metadata": {},
   "outputs": [
    {
     "data": {
      "text/html": [
       "<div>\n",
       "<style scoped>\n",
       "    .dataframe tbody tr th:only-of-type {\n",
       "        vertical-align: middle;\n",
       "    }\n",
       "\n",
       "    .dataframe tbody tr th {\n",
       "        vertical-align: top;\n",
       "    }\n",
       "\n",
       "    .dataframe thead th {\n",
       "        text-align: right;\n",
       "    }\n",
       "</style>\n",
       "<table border=\"1\" class=\"dataframe\">\n",
       "  <thead>\n",
       "    <tr style=\"text-align: right;\">\n",
       "      <th></th>\n",
       "      <th>State</th>\n",
       "      <th>Sales</th>\n",
       "    </tr>\n",
       "  </thead>\n",
       "  <tbody>\n",
       "    <tr>\n",
       "      <th>0</th>\n",
       "      <td>NSW</td>\n",
       "      <td>74.9700</td>\n",
       "    </tr>\n",
       "    <tr>\n",
       "      <th>1</th>\n",
       "      <td>NT</td>\n",
       "      <td>22.5800</td>\n",
       "    </tr>\n",
       "    <tr>\n",
       "      <th>2</th>\n",
       "      <td>QLD</td>\n",
       "      <td>33.4175</td>\n",
       "    </tr>\n",
       "    <tr>\n",
       "      <th>3</th>\n",
       "      <td>SA</td>\n",
       "      <td>58.8575</td>\n",
       "    </tr>\n",
       "    <tr>\n",
       "      <th>4</th>\n",
       "      <td>TAS</td>\n",
       "      <td>22.7600</td>\n",
       "    </tr>\n",
       "    <tr>\n",
       "      <th>5</th>\n",
       "      <td>VIC</td>\n",
       "      <td>105.5650</td>\n",
       "    </tr>\n",
       "    <tr>\n",
       "      <th>6</th>\n",
       "      <td>WA</td>\n",
       "      <td>22.1525</td>\n",
       "    </tr>\n",
       "  </tbody>\n",
       "</table>\n",
       "</div>"
      ],
      "text/plain": [
       "  State     Sales\n",
       "0   NSW   74.9700\n",
       "1    NT   22.5800\n",
       "2   QLD   33.4175\n",
       "3    SA   58.8575\n",
       "4   TAS   22.7600\n",
       "5   VIC  105.5650\n",
       "6    WA   22.1525"
      ]
     },
     "execution_count": 63,
     "metadata": {},
     "output_type": "execute_result"
    }
   ],
   "source": [
    "#verifying the data by scaling it down\n",
    "(df.groupby('State')['Sales'].sum()/1000000).reset_index()"
   ]
  },
  {
   "cell_type": "code",
   "execution_count": 68,
   "id": "13c70b1d-43f1-481d-a367-d1b707b1cfc3",
   "metadata": {},
   "outputs": [
    {
     "data": {
      "image/png": "[encoded data removed]",
      "text/plain": [
       "<Figure size 640x480 with 1 Axes>"
      ]
     },
     "metadata": {},
     "output_type": "display_data"
    }
   ],
   "source": [
    "# creating new dataframe from the existing to deal with required data and generate specific info\n",
    "df1=(df.groupby(['State','Group'])['Sales'].sum()/100000).reset_index()\n",
    "\n",
    "# plotting the data\n",
    "sns.barplot(x='State', y='Sales', data=df1, hue='Group')\n",
    "plt.title('Bar plot: Total sales per state (Differentiated by Group)')\n",
    "plt.ylabel('Proejcted Sales (in Million)')\n",
    "plt.show()"
   ]
  },
  {
   "cell_type": "markdown",
   "id": "79971762-3640-419d-aa09-047643f120e1",
   "metadata": {},
   "source": [
    "*Note : Seaborn library is used here along with matplot lib, but sns.barplot is more user friendly to display or categorize the data for a specific category. Like here we are dispalying state wise sales which is catgorized on different groups by using the \"hue\"*"
   ]
  },
  {
   "cell_type": "markdown",
   "id": "b23cfb39-4b4e-4ff5-837d-86447e23705f",
   "metadata": {},
   "source": [
    "*Bar chart analysis*<br>\n",
    "* *State VIC is generating the highest sales for all category*\n",
    "* *States NT, TAS and WA is in generating some low sales for each group*\n",
    "* *Seniors are not generating highest sales in any states but in some states they are generating minmum sales*"
   ]
  },
  {
   "cell_type": "markdown",
   "id": "17493629-730b-4e4c-88f8-37c7bb386be8",
   "metadata": {},
   "source": [
    "**Group-wise sales analysis (kids, women, men, and seniors) across different states.**"
   ]
  },
  {
   "cell_type": "code",
   "execution_count": 108,
   "id": "698b4b81-1804-4510-b2b8-ec225059c01f",
   "metadata": {},
   "outputs": [
    {
     "data": {
      "image/png": "[encoded data removed]",
      "text/plain": [
       "<Figure size 640x480 with 1 Axes>"
      ]
     },
     "metadata": {},
     "output_type": "display_data"
    }
   ],
   "source": [
    "# creating new dataframe from the existing to deal with required data and generate specific info\n",
    "df1=(df.groupby(['Group','State'])['Sales'].sum()/100000).reset_index()\n",
    "\n",
    "# plotting the data\n",
    "g=sns.barplot(x='Group', y='Sales', data=df1, hue='State')\n",
    "sns.move_legend(g, \"upper left\", bbox_to_anchor=(1, 1)) # moving legend outside of plot\n",
    "# Put the legend out of the figure\n",
    "#plt.legend(bbox_to_anchor=(1.05, 1), loc=2, borderaxespad=1.)\n",
    "#plt.legend(loc='upper left')\n",
    "plt.title('Bar plot: Total sales per group (Differentiated by State)')\n",
    "plt.ylabel('Proejcted Sales (in Million)')\n",
    "#plt.figure(figsize=(40, 12))   #Figure size (width, height)\n",
    "plt.show()"
   ]
  },
  {
   "cell_type": "markdown",
   "id": "845ae87b-de24-4a30-9af6-2b8ff56976b5",
   "metadata": {},
   "source": [
    "*Bar chart analysis*<br>\n",
    "\n",
    "* *State VIC is generating the highest sales for all category*\n",
    "* *States NT, TAS and WA is in generating some low sales for each group*\n",
    "* *NSW is generating 2nd highest sales for every group*"
   ]
  },
  {
   "cell_type": "markdown",
   "id": "d4556a18-f107-4a04-aa4e-d2b5380abe71",
   "metadata": {},
   "source": [
    "**Time-of-the-day analysis**"
   ]
  },
  {
   "cell_type": "markdown",
   "id": "fedeece6-f0d2-4c04-b122-66b3b337efba",
   "metadata": {},
   "source": [
    "*Bar plot helps us to identify minimum and maximum quite easily, So we will display time-of-the-day analysis using the barplot And as seaborn is quite user friendly as we do not need to set labels explicitely we will use seaborn package here too*"
   ]
  },
  {
   "cell_type": "markdown",
   "id": "92158479-c0bc-44fa-851a-95c9c5031806",
   "metadata": {},
   "source": [
    "*In this case we will plot two barplot one on sum of sales and one on avg. sales to get a more clear idea*"
   ]
  },
  {
   "cell_type": "markdown",
   "id": "6bcf0716-aecb-4466-b122-1670e39d8bac",
   "metadata": {},
   "source": [
    "*Time of day analysis on sum of sales*"
   ]
  },
  {
   "cell_type": "code",
   "execution_count": 125,
   "id": "2450986c-c917-4987-b267-280b76cf0f26",
   "metadata": {},
   "outputs": [
    {
     "data": {
      "text/plain": [
       "Time\n",
       " Afternoon    45241.071429\n",
       " Evening      44479.166667\n",
       " Morning      45320.436508\n",
       "Name: Sales, dtype: float64"
      ]
     },
     "execution_count": 125,
     "metadata": {},
     "output_type": "execute_result"
    }
   ],
   "source": [
    "# groupby Time and mean of sales\n",
    "df.groupby(['Time'])['Sales'].mean()"
   ]
  },
  {
   "cell_type": "code",
   "execution_count": 128,
   "id": "1d2be227-0d8a-412b-b155-2840d92a12fe",
   "metadata": {},
   "outputs": [
    {
     "data": {
      "image/png": "[encoded data removed]",
      "text/plain": [
       "<Figure size 640x480 with 1 Axes>"
      ]
     },
     "metadata": {},
     "output_type": "display_data"
    }
   ],
   "source": [
    "# creating new dataframe from the existing to deal with required data and generate specific info\n",
    "df1=(df.groupby(['Time'])['Sales'].mean()).reset_index()\n",
    "\n",
    "# plotting the data\n",
    "sns.barplot(x='Time', y='Sales', data=df1)\n",
    "plt.title('Bar plot: Avg sales vs Time')\n",
    "#plt.ylabel('Proejcted Sales (in Million)')\n",
    "#plt.figure(figsize=(40, 12))   #Figure size (width, height)\n",
    "plt.show()"
   ]
  },
  {
   "cell_type": "markdown",
   "id": "41a53868-f45a-489a-aa53-1ed6ca163ba6",
   "metadata": {},
   "source": [
    "*Time of day analysis on mean of sales*"
   ]
  },
  {
   "cell_type": "code",
   "execution_count": 126,
   "id": "61b2eeb0-204e-450d-9496-68dcd8e4c908",
   "metadata": {},
   "outputs": [
    {
     "data": {
      "text/plain": [
       "Time\n",
       " Afternoon    11400.75\n",
       " Evening      11208.75\n",
       " Morning      11420.75\n",
       "Name: Sales, dtype: float64"
      ]
     },
     "execution_count": 126,
     "metadata": {},
     "output_type": "execute_result"
    }
   ],
   "source": [
    "# groupby Time and sum of sales\n",
    "df.groupby(['Time'])['Sales'].sum()/10000 # to scale it as mean divided the sum by 10000"
   ]
  },
  {
   "cell_type": "code",
   "execution_count": 130,
   "id": "fee9dfc7-b615-4860-a636-5cf0af339c34",
   "metadata": {},
   "outputs": [
    {
     "data": {
      "image/png": "[encoded data removed]",
      "text/plain": [
       "<Figure size 640x480 with 1 Axes>"
      ]
     },
     "metadata": {},
     "output_type": "display_data"
    }
   ],
   "source": [
    "# creating new dataframe from the existing to deal with required data and generate specific info\n",
    "df1=(df.groupby(['Time'])['Sales'].sum()/10000).reset_index()\n",
    "\n",
    "# plotting the data\n",
    "sns.barplot(x='Time', y='Sales', data=df1)\n",
    "plt.title('Bar plot: Total sales vs Time')\n",
    "plt.ylabel('Proejcted Sales (in Million)')\n",
    "#plt.figure(figsize=(40, 12))   #Figure size (width, height)\n",
    "plt.show()"
   ]
  },
  {
   "cell_type": "markdown",
   "id": "e6450f2b-5919-478b-9eae-cf1fb54e90c0",
   "metadata": {},
   "source": [
    "*Chart Analysis*<br>\n",
    "* *In both of the bar chart it is clear that sales are minimum in evening time*\n",
    "* *Sales are bit higher in morning but almost near to the sales in afternoon*"
   ]
  },
  {
   "cell_type": "markdown",
   "id": "8b5c6e6f-0e8a-4745-8202-caa99814ff05",
   "metadata": {},
   "source": [
    "**Daily, weekly, monthly and quarterly charts**"
   ]
  },
  {
   "cell_type": "markdown",
   "id": "84f0c8bf-aa74-4d92-8b80-cf0a29b4c459",
   "metadata": {},
   "source": [
    "*Daily reports are already generated in above section as we are not grouping the days as weekdays or months*"
   ]
  },
  {
   "cell_type": "markdown",
   "id": "a5defff1-1b99-4111-9751-51102a7ed36b",
   "metadata": {},
   "source": [
    "*Weekly reports of different states on sales*"
   ]
  },
  {
   "cell_type": "code",
   "execution_count": 150,
   "id": "f2d961b4-a9cc-4f9f-9665-13e64d588e7c",
   "metadata": {},
   "outputs": [
    {
     "data": {
      "image/png": "[encoded data removed]",
      "text/plain": [
       "<Figure size 640x480 with 2 Axes>"
      ]
     },
     "metadata": {},
     "output_type": "display_data"
    }
   ],
   "source": [
    "# weekly reports of different states on sales\n",
    "\n",
    "df1=(df.groupby(['State','Weekdays'])['Sales'].mean()/1000).reset_index()\n",
    "df2=(df.groupby(['State','Weekdays'])['Sales'].sum()/100000).reset_index()\n",
    "\n",
    "#creating subplots\n",
    "f, axes = plt.subplots(2, 1) # 2 is the no. of rwos and 1 here is the no. of col in the subplot \n",
    "\n",
    "# plotting the data on subplot 1 i.e axes[0]\n",
    "g=sns.barplot(x='State', y='Sales', data=df1, hue='Weekdays', ax=axes[0])\n",
    "axes[0].set_title('Avg. sales per State (Differentiated by Weekday)')\n",
    "axes[0].set_ylabel('Avg. sales')\n",
    "sns.move_legend(g, \"upper left\", bbox_to_anchor=(1, 1)) # moving legend outside of plot\n",
    "\n",
    "# plotting the data on subplot 2 i.e axes[1]\n",
    "h=sns.barplot(x='State', y='Sales', data=df2, hue='Weekdays', ax=axes[1])\n",
    "axes[1].set_title('Total sales per State (Differentiated by Weekday)')\n",
    "axes[1].set_ylabel('Total sales')\n",
    "sns.move_legend(h, \"upper left\", bbox_to_anchor=(1, 1)) # moving legend outside of plot\n",
    "\n",
    "plt.tight_layout() # to remove the overlapping between title of subplot 2 with xlables of subplot1\n",
    "plt.show()"
   ]
  },
  {
   "cell_type": "markdown",
   "id": "0ab8a2a1-6be9-4d2e-9eb0-8360d639efb5",
   "metadata": {},
   "source": [
    "*Bar plot analysis*\n",
    "* *Bar plot is displaying that any of the 1th 2th and 3th days of the week is generating max sales*<br>\n",
    "* *Above bar plot is also indicating that in most of the states except QLD, sales is low on 5th day of the week*"
   ]
  },
  {
   "cell_type": "markdown",
   "id": "6f5d315f-6cfd-42a4-8f03-ac7e16e28f2f",
   "metadata": {},
   "source": [
    "*Weekly reports of different Groups generating sales*"
   ]
  },
  {
   "cell_type": "code",
   "execution_count": 175,
   "id": "7d8890de-a141-45db-9a07-1aa59adcc988",
   "metadata": {},
   "outputs": [
    {
     "data": {
      "image/png": "[encoded data removed]",
      "text/plain": [
       "<Figure size 1200x1200 with 4 Axes>"
      ]
     },
     "metadata": {},
     "output_type": "display_data"
    }
   ],
   "source": [
    "# weekly reports of different Groups generating sales\n",
    "\n",
    "df1=(df.groupby(['Group','Weekdays'])['Sales'].mean()/1000).reset_index()\n",
    "df2=(df.groupby(['Group','Weekdays'])['Sales'].sum()/100000).reset_index()\n",
    "df3=(df.groupby(['Weekdays','Group'])['Sales'].mean()/1000).reset_index()\n",
    "df4=(df.groupby(['Weekdays','Group'])['Sales'].sum()/100000).reset_index()\n",
    "\n",
    "#creating subplots\n",
    "f, axes = plt.subplots(2, 2, figsize=(12,12)) # 2 is the no. of rwos and 1 here is the no. of col in the subplot \n",
    "\n",
    "# plotting the data on subplot 1 i.e axes[0]\n",
    "g=sns.barplot(x='Group', y='Sales', data=df1, hue='Weekdays', ax=axes[0][0])\n",
    "axes[0][0].set_title('Avg. sales per Group')\n",
    "axes[0][0].set_ylabel('Avg. sales')\n",
    "#axes[0][0].xticks(rotation = 30)   #Rotating the x axis labels\n",
    "sns.move_legend(g, \"upper left\", bbox_to_anchor=(1, 1)) # moving legend outside of plot\n",
    "\n",
    "# plotting the data on subplot 2 i.e axes[1]\n",
    "h=sns.barplot(x='Group', y='Sales', data=df2, hue='Weekdays', ax=axes[0][1])\n",
    "axes[0][1].set_title('Total sales per Group)')\n",
    "axes[0][1].set_ylabel('Total sales')\n",
    "sns.move_legend(h, \"upper left\", bbox_to_anchor=(1, 1)) # moving legend outside of plot\n",
    "\n",
    "# plotting the data on subplot 3 i.e axes[0]\n",
    "g1=sns.barplot(x='Weekdays', y='Sales', data=df3, hue='Group', ax=axes[1][0])\n",
    "axes[1][0].set_title('Avg. sales vs Weekday')\n",
    "axes[1][0].set_ylabel('Avg. sales')\n",
    "sns.move_legend(g1, \"upper left\", bbox_to_anchor=(1, 1)) # moving legend outside of plot\n",
    "\n",
    "# plotting the data on subplot 4 i.e axes[1]\n",
    "h1=sns.barplot(x='Weekdays', y='Sales', data=df4, hue='Group', ax=axes[1][1])\n",
    "axes[1][1].set_title('Total sales vs Weekdays')\n",
    "axes[1][1].set_ylabel('Total sales')\n",
    "sns.move_legend(h1, \"upper left\", bbox_to_anchor=(1, 1)) # moving legend outside of plot\n",
    "\n",
    "plt.tight_layout() # to remove the overlapping between title of subplot 2 with xlables of subplot1\n",
    "plt.show()"
   ]
  },
  {
   "cell_type": "markdown",
   "id": "e80116f4-2cce-42d1-9660-de653d3a154e",
   "metadata": {},
   "source": [
    "*Plot analysis*\n",
    "* *Sales are higher on 1th day of weekdays for kids*\n",
    "* *Sales are higher on 2th day of weekdays for Mens*\n",
    "* *Sales are higher on 1th day of weekdays for seniors*\n",
    "* *Sales are higher on 1th day of weekdays for Womans*\n",
    "* *avg Sales are higher on 1th and 5th day of weekdays for woman*"
   ]
  },
  {
   "cell_type": "markdown",
   "id": "e0bfc252-6948-4288-93bb-5d92dbfd53ff",
   "metadata": {},
   "source": [
    "*We could conclude that in 1th day of week kids and seniors may be accompanied by woman thus sales are higher for kids,woman and Seniors*"
   ]
  },
  {
   "cell_type": "markdown",
   "id": "e882fa48-e1b4-4ccc-bd6b-f4996cdb5865",
   "metadata": {},
   "source": [
    "*Weekly reports of generating sales on different times*"
   ]
  },
  {
   "cell_type": "code",
   "execution_count": 177,
   "id": "388dc40c-c62c-44bc-b637-f2d6d5144c12",
   "metadata": {},
   "outputs": [
    {
     "data": {
      "image/png": "[encoded data removed]",
      "text/plain": [
       "<Figure size 640x480 with 2 Axes>"
      ]
     },
     "metadata": {},
     "output_type": "display_data"
    }
   ],
   "source": [
    "# weekly reports of generating sales on different times\n",
    "df1=(df.groupby(['Time','Weekdays'])['Sales'].mean()/1000).reset_index()\n",
    "df2=(df.groupby(['Time','Weekdays'])['Sales'].sum()/100000).reset_index()\n",
    "\n",
    "\n",
    "#creating subplots\n",
    "f, axes = plt.subplots(2, 1) # 2 is the no. of rwos and 1 here is the no. of col in the subplot \n",
    "\n",
    "# plotting the data on subplot 1 i.e axes[0]\n",
    "g=sns.barplot(x='Weekdays', y='Sales', data=df1, hue='Time', ax=axes[0])\n",
    "axes[0].set_title('Avg. sales vs Weekdays (Differentiated by Time)')\n",
    "axes[0].set_ylabel('Avg. sales')\n",
    "sns.move_legend(g, \"upper left\", bbox_to_anchor=(1, 1)) # moving legend outside of plot\n",
    "\n",
    "# plotting the data on subplot 2 i.e axes[1]\n",
    "h=sns.barplot(x='Weekdays', y='Sales', data=df2, hue='Time', ax=axes[1])\n",
    "axes[1].set_title('Total sales per Weekdays (Differentiated by Time)')\n",
    "axes[1].set_ylabel('Total sales')\n",
    "sns.move_legend(h, \"upper left\", bbox_to_anchor=(1, 1)) # moving legend outside of plot\n",
    "\n",
    "plt.tight_layout() # to remove the overlapping between title of subplot 2 with xlables of subplot1\n",
    "plt.show()"
   ]
  },
  {
   "cell_type": "markdown",
   "id": "7a65b277-9238-443a-8c7e-7654d965fd1d",
   "metadata": {},
   "source": [
    "*Bar plot analysis*\n",
    "* *most preferred time for sales are Morning and in Afternoon*\n",
    "* *Sales are lower in Evening*"
   ]
  },
  {
   "cell_type": "markdown",
   "id": "0097bf57-c8b5-4634-8c41-a5a9d9170ce6",
   "metadata": {},
   "source": [
    "*Monthly reports on different sate vs sales*"
   ]
  },
  {
   "cell_type": "code",
   "execution_count": 182,
   "id": "24be76b3-b6e1-4077-bbf7-6b1875fb7756",
   "metadata": {},
   "outputs": [
    {
     "data": {
      "image/png": "[encoded data removed]",
      "text/plain": [
       "<Figure size 640x480 with 2 Axes>"
      ]
     },
     "metadata": {},
     "output_type": "display_data"
    }
   ],
   "source": [
    "# monthly reports of different states on sales\n",
    "\n",
    "df1=(df.groupby(['State','Month'])['Sales'].mean()/1000).reset_index()\n",
    "df2=(df.groupby(['State','Month'])['Sales'].sum()/100000).reset_index()\n",
    "\n",
    "#creating subplots\n",
    "f, axes = plt.subplots(2, 1) # 2 is the no. of rwos and 1 here is the no. of col in the subplot \n",
    "\n",
    "# plotting the data on subplot 1 i.e axes[0]\n",
    "g=sns.barplot(x='State', y='Sales', data=df1, hue='Month', ax=axes[0])\n",
    "axes[0].set_title('Avg. sales per State (Differentiated by Month)')\n",
    "axes[0].set_ylabel('Avg. sales')\n",
    "sns.move_legend(g, \"upper left\", bbox_to_anchor=(1, 1)) # moving legend outside of plot\n",
    "\n",
    "# plotting the data on subplot 2 i.e axes[1]\n",
    "h=sns.barplot(x='State', y='Sales', data=df2, hue='Month', ax=axes[1])\n",
    "axes[1].set_title('Total sales per State (Differentiated by Month)')\n",
    "axes[1].set_ylabel('Total sales')\n",
    "sns.move_legend(h, \"upper left\", bbox_to_anchor=(1, 1)) # moving legend outside of plot\n",
    "\n",
    "plt.tight_layout() # to remove the overlapping between title of subplot 2 with xlables of subplot1\n",
    "plt.show()"
   ]
  },
  {
   "cell_type": "markdown",
   "id": "20213e3c-45f1-422b-b1f2-9c83aff9b344",
   "metadata": {},
   "source": [
    "*Bar plot analysis*\n",
    "* *12th month is generating the higest sales on each state*\n",
    "* *11th month is generating the lowest sales on each state*"
   ]
  },
  {
   "cell_type": "markdown",
   "id": "acb0e30e-29ac-4f94-9e51-7a1da0f3c0b0",
   "metadata": {},
   "source": [
    "*Monthly reports of different Groups generating sales*"
   ]
  },
  {
   "cell_type": "code",
   "execution_count": 183,
   "id": "a21eeb77-dc73-4b94-b2fc-94894dc9985a",
   "metadata": {},
   "outputs": [
    {
     "data": {
      "image/png": "[encoded data removed]",
      "text/plain": [
       "<Figure size 640x480 with 2 Axes>"
      ]
     },
     "metadata": {},
     "output_type": "display_data"
    }
   ],
   "source": [
    "# monthly reports of generating sales on different times\n",
    "df1=(df.groupby(['Group','Month'])['Sales'].mean()/1000).reset_index()\n",
    "df2=(df.groupby(['Group','Month'])['Sales'].sum()/100000).reset_index()\n",
    "\n",
    "\n",
    "#creating subplots\n",
    "f, axes = plt.subplots(2, 1) # 2 is the no. of rwos and 1 here is the no. of col in the subplot \n",
    "\n",
    "# plotting the data on subplot 1 i.e axes[0]\n",
    "g=sns.barplot(x='Group', y='Sales', data=df1, hue='Month', ax=axes[0])\n",
    "axes[0].set_title('Avg. sales vs Group (Differentiated by Month)')\n",
    "axes[0].set_ylabel('Avg. sales')\n",
    "sns.move_legend(g, \"upper left\", bbox_to_anchor=(1, 1)) # moving legend outside of plot\n",
    "\n",
    "# plotting the data on subplot 2 i.e axes[1]\n",
    "h=sns.barplot(x='Group', y='Sales', data=df2, hue='Month', ax=axes[1])\n",
    "axes[1].set_title('Total sales per Group (Differentiated by Month)')\n",
    "axes[1].set_ylabel('Total sales')\n",
    "sns.move_legend(h, \"upper left\", bbox_to_anchor=(1, 1)) # moving legend outside of plot\n",
    "\n",
    "plt.tight_layout() # to remove the overlapping between title of subplot 2 with xlables of subplot1\n",
    "plt.show()"
   ]
  },
  {
   "cell_type": "markdown",
   "id": "c8c4a120-ce7a-4ad7-b484-2be1fa91b134",
   "metadata": {},
   "source": [
    "*Bar plot analysis*\n",
    "* *12th month is generating the higest sales by each group*\n",
    "* *11th month is generating the lowest sales by each group*"
   ]
  },
  {
   "cell_type": "markdown",
   "id": "ba7b8d20-b2da-478b-9868-59f0f04c9291",
   "metadata": {},
   "source": [
    "*Monthly reports of generating sales on different times*"
   ]
  },
  {
   "cell_type": "code",
   "execution_count": 184,
   "id": "be8071f3-26fa-4f36-a293-31ec42b300b1",
   "metadata": {},
   "outputs": [
    {
     "data": {
      "image/png": "[encoded data removed]",
      "text/plain": [
       "<Figure size 640x480 with 2 Axes>"
      ]
     },
     "metadata": {},
     "output_type": "display_data"
    }
   ],
   "source": [
    "# Monthly reports of generating sales on different times\n",
    "df1=(df.groupby(['Month','Weekdays'])['Sales'].mean()/1000).reset_index()\n",
    "df2=(df.groupby(['Month','Weekdays'])['Sales'].sum()/100000).reset_index()\n",
    "\n",
    "\n",
    "#creating subplots\n",
    "f, axes = plt.subplots(2, 1) # 2 is the no. of rwos and 1 here is the no. of col in the subplot \n",
    "\n",
    "# plotting the data on subplot 1 i.e axes[0]\n",
    "g=sns.barplot(x='Weekdays', y='Sales', data=df1, hue='Month', ax=axes[0])\n",
    "axes[0].set_title('Avg. sales vs Weekdays (Differentiated by Time)')\n",
    "axes[0].set_ylabel('Avg. sales')\n",
    "sns.move_legend(g, \"upper left\", bbox_to_anchor=(1, 1)) # moving legend outside of plot\n",
    "\n",
    "# plotting the data on subplot 2 i.e axes[1]\n",
    "h=sns.barplot(x='Weekdays', y='Sales', data=df2, hue='Month', ax=axes[1])\n",
    "axes[1].set_title('Total sales per Weekdays (Differentiated by Time)')\n",
    "axes[1].set_ylabel('Total sales')\n",
    "sns.move_legend(h, \"upper left\", bbox_to_anchor=(1, 1)) # moving legend outside of plot\n",
    "\n",
    "plt.tight_layout() # to remove the overlapping between title of subplot 2 with xlables of subplot1\n",
    "plt.show()"
   ]
  },
  {
   "cell_type": "markdown",
   "id": "4e00fd06-24d0-47d8-a3f6-fea3ebe5c199",
   "metadata": {},
   "source": [
    "*Bar plot analysis*\n",
    "* *Everyday in 12th month is generating highest sales*\n",
    "* *1th and 2th day of every week of every month is generating highest sales*"
   ]
  },
  {
   "cell_type": "code",
   "execution_count": null,
   "id": "41421d9b-b79f-4437-89d1-3482933941f1",
   "metadata": {},
   "outputs": [],
   "source": []
  }
 ],
 "metadata": {
  "kernelspec": {
   "display_name": "Python 3 (ipykernel)",
   "language": "python",
   "name": "python3"
  },
  "language_info": {
   "codemirror_mode": {
    "name": "ipython",
    "version": 3
   },
   "file_extension": ".py",
   "mimetype": "text/x-python",
   "name": "python",
   "nbconvert_exporter": "python",
   "pygments_lexer": "ipython3",
   "version": "3.9.6"
  }
 },
 "nbformat": 4,
 "nbformat_minor": 5
}
